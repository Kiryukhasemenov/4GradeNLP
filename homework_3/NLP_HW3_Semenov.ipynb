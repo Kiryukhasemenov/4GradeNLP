{
  "nbformat": 4,
  "nbformat_minor": 0,
  "metadata": {
    "colab": {
      "name": "NLP_HW3_Semenov.ipynb",
      "provenance": [],
      "collapsed_sections": []
    },
    "kernelspec": {
      "name": "python3",
      "display_name": "Python 3"
    },
    "accelerator": "GPU"
  },
  "cells": [
    {
      "cell_type": "markdown",
      "metadata": {
        "id": "7w5Bp_HNr8E1",
        "colab_type": "text"
      },
      "source": [
        "# Домашнее задание №3. \n",
        "*Кирилл Семенов, БКЛ162*\n",
        "\n",
        "Описание задания:\n",
        "\n",
        "Выберите одну из предложенных лексем: *свет, острый, лук, замок*.\n",
        "\n",
        "* Выберите 2-3 значения лексемы по словарю (рекомендую использовать МАС, обязательно напишите, каким словарем пользовались). Для каждого значения придумайте несколько \"диагностических\" слов (которые сигнализируют о реализации одного из значений в контексте): например, ключ — вода / дверь. Подберите по НКРЯ контексты для выбранной лексемы, содержащие диагностические слова. Таким образом, получается размеченный тестсет.\n",
        "\n",
        "* Для каждого контекста определите значение автоматически — с помощью AdaGram / ELMo на выбор. В случае с AdaGram вы сразу получаете какой-то номер значения, с ELMo — нужно кластеризовать.\n",
        "\n",
        "* Возьмите словарные толкования для каждого значения и припишите ему значение автоматически тем же способом, что и в п.2.\n",
        "\n",
        "* Придумайте и реализуйте способ соотнести толкования с значениями с помощью тезауруса (Wiki_ru_wordnet / РуТез).\n",
        "\n",
        "* Оцените accuracy — в какой доле контекстов автоматически определенно значение для контекста совпадает с автоматически определенным значением толкования.\n",
        "\n",
        "Критерии оценки:\n",
        "по 2 балла на каждый пункт\n",
        "\n",
        "Формат сдачи задания:\n",
        "Jupyter-notebook на гитхабе.\n",
        "\n",
        "Дедлайн:\n",
        "9 декабря 2019 10:00мск\n",
        "\n"
      ]
    },
    {
      "cell_type": "markdown",
      "metadata": {
        "id": "fm1qriXQdCR_",
        "colab_type": "text"
      },
      "source": [
        "# Импорты и инсталляции"
      ]
    },
    {
      "cell_type": "code",
      "metadata": {
        "id": "6khK0E8Wrsm6",
        "colab_type": "code",
        "outputId": "9b4b8e8c-1de3-41f8-feee-981b5fa533e6",
        "colab": {
          "base_uri": "https://localhost:8080/",
          "height": 1000
        }
      },
      "source": [
        "!pip install git+https://github.com/lopuhin/python-adagram.git\n",
        "!pip install allennlp"
      ],
      "execution_count": 0,
      "outputs": [
        {
          "output_type": "stream",
          "text": [
            "Collecting git+https://github.com/lopuhin/python-adagram.git\n",
            "  Cloning https://github.com/lopuhin/python-adagram.git to /tmp/pip-req-build-kfuzzz_k\n",
            "  Running command git clone -q https://github.com/lopuhin/python-adagram.git /tmp/pip-req-build-kfuzzz_k\n",
            "Requirement already satisfied: cython in /usr/local/lib/python3.6/dist-packages (from adagram==0.0.1) (0.29.14)\n",
            "Requirement already satisfied: joblib in /usr/local/lib/python3.6/dist-packages (from adagram==0.0.1) (0.14.0)\n",
            "Requirement already satisfied: numpy>=1.9 in /usr/local/lib/python3.6/dist-packages (from adagram==0.0.1) (1.17.4)\n",
            "Requirement already satisfied: six in /usr/local/lib/python3.6/dist-packages (from adagram==0.0.1) (1.12.0)\n",
            "Building wheels for collected packages: adagram\n",
            "  Building wheel for adagram (setup.py) ... \u001b[?25l\u001b[?25hdone\n",
            "  Created wheel for adagram: filename=adagram-0.0.1-cp36-cp36m-linux_x86_64.whl size=464614 sha256=80ced06f113d3489378baf548ea0a49137cd193ae53b7b1e6195295463fc12cb\n",
            "  Stored in directory: /tmp/pip-ephem-wheel-cache-vgysl7sk/wheels/11/0f/46/f5df96670df8f7973b4c2311ffc9b02e435a7bd3207f992c4d\n",
            "Successfully built adagram\n",
            "Installing collected packages: adagram\n",
            "Successfully installed adagram-0.0.1\n",
            "Collecting allennlp\n",
            "\u001b[?25l  Downloading https://files.pythonhosted.org/packages/bb/bb/041115d8bad1447080e5d1e30097c95e4b66e36074277afce8620a61cee3/allennlp-0.9.0-py3-none-any.whl (7.6MB)\n",
            "\u001b[K     |████████████████████████████████| 7.6MB 5.5MB/s \n",
            "\u001b[?25hRequirement already satisfied: flask>=1.0.2 in /usr/local/lib/python3.6/dist-packages (from allennlp) (1.1.1)\n",
            "Requirement already satisfied: pytest in /usr/local/lib/python3.6/dist-packages (from allennlp) (3.6.4)\n",
            "Requirement already satisfied: numpy in /usr/local/lib/python3.6/dist-packages (from allennlp) (1.17.4)\n",
            "Requirement already satisfied: spacy<2.2,>=2.1.0 in /usr/local/lib/python3.6/dist-packages (from allennlp) (2.1.9)\n",
            "Collecting jsonpickle\n",
            "  Downloading https://files.pythonhosted.org/packages/07/07/c157520a3ebd166c8c24c6ae0ecae7c3968eb4653ff0e5af369bb82f004d/jsonpickle-1.2-py2.py3-none-any.whl\n",
            "Collecting parsimonious>=0.8.0\n",
            "\u001b[?25l  Downloading https://files.pythonhosted.org/packages/02/fc/067a3f89869a41009e1a7cdfb14725f8ddd246f30f63c645e8ef8a1c56f4/parsimonious-0.8.1.tar.gz (45kB)\n",
            "\u001b[K     |████████████████████████████████| 51kB 6.8MB/s \n",
            "\u001b[?25hRequirement already satisfied: pytz>=2017.3 in /usr/local/lib/python3.6/dist-packages (from allennlp) (2018.9)\n",
            "Requirement already satisfied: torch>=1.2.0 in /usr/local/lib/python3.6/dist-packages (from allennlp) (1.3.1)\n",
            "Collecting flaky\n",
            "  Downloading https://files.pythonhosted.org/packages/fe/12/0f169abf1aa07c7edef4855cca53703d2e6b7ecbded7829588ac7e7e3424/flaky-3.6.1-py2.py3-none-any.whl\n",
            "Collecting word2number>=1.1\n",
            "  Downloading https://files.pythonhosted.org/packages/4a/29/a31940c848521f0725f0df6b25dca8917f13a2025b0e8fcbe5d0457e45e6/word2number-1.1.zip\n",
            "Collecting tensorboardX>=1.2\n",
            "\u001b[?25l  Downloading https://files.pythonhosted.org/packages/a6/5c/e918d9f190baab8d55bad52840d8091dd5114cc99f03eaa6d72d404503cc/tensorboardX-1.9-py2.py3-none-any.whl (190kB)\n",
            "\u001b[K     |████████████████████████████████| 194kB 47.1MB/s \n",
            "\u001b[?25hCollecting responses>=0.7\n",
            "  Downloading https://files.pythonhosted.org/packages/6e/e1/a078cbbbe088d1099ea73a6bb4cd08a10ec9ab35153eed0d86b8f3802ee8/responses-0.10.7-py2.py3-none-any.whl\n",
            "Collecting jsonnet>=0.10.0; sys_platform != \"win32\"\n",
            "\u001b[?25l  Downloading https://files.pythonhosted.org/packages/fe/a6/e69e38f1f259fcf8532d8bd2c4bc88764f42d7b35a41423a7f4b035cc5ce/jsonnet-0.14.0.tar.gz (253kB)\n",
            "\u001b[K     |████████████████████████████████| 256kB 50.0MB/s \n",
            "\u001b[?25hRequirement already satisfied: scipy in /usr/local/lib/python3.6/dist-packages (from allennlp) (1.3.3)\n",
            "Requirement already satisfied: boto3 in /usr/local/lib/python3.6/dist-packages (from allennlp) (1.10.32)\n",
            "Requirement already satisfied: nltk in /usr/local/lib/python3.6/dist-packages (from allennlp) (3.2.5)\n",
            "Collecting unidecode\n",
            "\u001b[?25l  Downloading https://files.pythonhosted.org/packages/d0/42/d9edfed04228bacea2d824904cae367ee9efd05e6cce7ceaaedd0b0ad964/Unidecode-1.1.1-py2.py3-none-any.whl (238kB)\n",
            "\u001b[K     |████████████████████████████████| 245kB 40.8MB/s \n",
            "\u001b[?25hRequirement already satisfied: gevent>=1.3.6 in /usr/local/lib/python3.6/dist-packages (from allennlp) (1.4.0)\n",
            "Requirement already satisfied: sqlparse>=0.2.4 in /usr/local/lib/python3.6/dist-packages (from allennlp) (0.3.0)\n",
            "Requirement already satisfied: requests>=2.18 in /usr/local/lib/python3.6/dist-packages (from allennlp) (2.21.0)\n",
            "Collecting overrides\n",
            "  Downloading https://files.pythonhosted.org/packages/8b/a0/0d4a9dcd28de9bf263e9436b5876ba199cc4e4a19d0dc4e85eed657b1b77/overrides-2.5.tar.gz\n",
            "Requirement already satisfied: tqdm>=4.19 in /usr/local/lib/python3.6/dist-packages (from allennlp) (4.28.1)\n",
            "Collecting numpydoc>=0.8.0\n",
            "  Downloading https://files.pythonhosted.org/packages/6a/f3/7cfe4c616e4b9fe05540256cc9c6661c052c8a4cec2915732793b36e1843/numpydoc-0.9.1.tar.gz\n",
            "Requirement already satisfied: scikit-learn in /usr/local/lib/python3.6/dist-packages (from allennlp) (0.21.3)\n",
            "Requirement already satisfied: matplotlib>=2.2.3 in /usr/local/lib/python3.6/dist-packages (from allennlp) (3.1.2)\n",
            "Collecting conllu==1.3.1\n",
            "  Downloading https://files.pythonhosted.org/packages/ae/54/b0ae1199f3d01666821b028cd967f7c0ac527ab162af433d3da69242cea2/conllu-1.3.1-py2.py3-none-any.whl\n",
            "Requirement already satisfied: editdistance in /usr/local/lib/python3.6/dist-packages (from allennlp) (0.5.3)\n",
            "Collecting flask-cors>=3.0.7\n",
            "  Downloading https://files.pythonhosted.org/packages/78/38/e68b11daa5d613e3a91e4bf3da76c94ac9ee0d9cd515af9c1ab80d36f709/Flask_Cors-3.0.8-py2.py3-none-any.whl\n",
            "Collecting pytorch-pretrained-bert>=0.6.0\n",
            "\u001b[?25l  Downloading https://files.pythonhosted.org/packages/d7/e0/c08d5553b89973d9a240605b9c12404bcf8227590de62bae27acbcfe076b/pytorch_pretrained_bert-0.6.2-py3-none-any.whl (123kB)\n",
            "\u001b[K     |████████████████████████████████| 133kB 50.0MB/s \n",
            "\u001b[?25hCollecting pytorch-transformers==1.1.0\n",
            "\u001b[?25l  Downloading https://files.pythonhosted.org/packages/50/89/ad0d6bb932d0a51793eaabcf1617a36ff530dc9ab9e38f765a35dc293306/pytorch_transformers-1.1.0-py3-none-any.whl (158kB)\n",
            "\u001b[K     |████████████████████████████████| 163kB 51.4MB/s \n",
            "\u001b[?25hCollecting ftfy\n",
            "\u001b[?25l  Downloading https://files.pythonhosted.org/packages/75/ca/2d9a5030eaf1bcd925dab392762b9709a7ad4bd486a90599d93cd79cb188/ftfy-5.6.tar.gz (58kB)\n",
            "\u001b[K     |████████████████████████████████| 61kB 7.6MB/s \n",
            "\u001b[?25hRequirement already satisfied: h5py in /usr/local/lib/python3.6/dist-packages (from allennlp) (2.8.0)\n",
            "Requirement already satisfied: click>=5.1 in /usr/local/lib/python3.6/dist-packages (from flask>=1.0.2->allennlp) (7.0)\n",
            "Requirement already satisfied: Jinja2>=2.10.1 in /usr/local/lib/python3.6/dist-packages (from flask>=1.0.2->allennlp) (2.10.3)\n",
            "Requirement already satisfied: Werkzeug>=0.15 in /usr/local/lib/python3.6/dist-packages (from flask>=1.0.2->allennlp) (0.16.0)\n",
            "Requirement already satisfied: itsdangerous>=0.24 in /usr/local/lib/python3.6/dist-packages (from flask>=1.0.2->allennlp) (1.1.0)\n",
            "Requirement already satisfied: attrs>=17.4.0 in /usr/local/lib/python3.6/dist-packages (from pytest->allennlp) (19.3.0)\n",
            "Requirement already satisfied: atomicwrites>=1.0 in /usr/local/lib/python3.6/dist-packages (from pytest->allennlp) (1.3.0)\n",
            "Requirement already satisfied: py>=1.5.0 in /usr/local/lib/python3.6/dist-packages (from pytest->allennlp) (1.8.0)\n",
            "Requirement already satisfied: setuptools in /usr/local/lib/python3.6/dist-packages (from pytest->allennlp) (42.0.2)\n",
            "Requirement already satisfied: six>=1.10.0 in /usr/local/lib/python3.6/dist-packages (from pytest->allennlp) (1.12.0)\n",
            "Requirement already satisfied: more-itertools>=4.0.0 in /usr/local/lib/python3.6/dist-packages (from pytest->allennlp) (8.0.0)\n",
            "Requirement already satisfied: pluggy<0.8,>=0.5 in /usr/local/lib/python3.6/dist-packages (from pytest->allennlp) (0.7.1)\n",
            "Requirement already satisfied: wasabi<1.1.0,>=0.2.0 in /usr/local/lib/python3.6/dist-packages (from spacy<2.2,>=2.1.0->allennlp) (0.4.2)\n",
            "Requirement already satisfied: murmurhash<1.1.0,>=0.28.0 in /usr/local/lib/python3.6/dist-packages (from spacy<2.2,>=2.1.0->allennlp) (1.0.2)\n",
            "Requirement already satisfied: cymem<2.1.0,>=2.0.2 in /usr/local/lib/python3.6/dist-packages (from spacy<2.2,>=2.1.0->allennlp) (2.0.3)\n",
            "Requirement already satisfied: preshed<2.1.0,>=2.0.1 in /usr/local/lib/python3.6/dist-packages (from spacy<2.2,>=2.1.0->allennlp) (2.0.1)\n",
            "Requirement already satisfied: blis<0.3.0,>=0.2.2 in /usr/local/lib/python3.6/dist-packages (from spacy<2.2,>=2.1.0->allennlp) (0.2.4)\n",
            "Requirement already satisfied: plac<1.0.0,>=0.9.6 in /usr/local/lib/python3.6/dist-packages (from spacy<2.2,>=2.1.0->allennlp) (0.9.6)\n",
            "Requirement already satisfied: thinc<7.1.0,>=7.0.8 in /usr/local/lib/python3.6/dist-packages (from spacy<2.2,>=2.1.0->allennlp) (7.0.8)\n",
            "Requirement already satisfied: srsly<1.1.0,>=0.0.6 in /usr/local/lib/python3.6/dist-packages (from spacy<2.2,>=2.1.0->allennlp) (0.2.0)\n",
            "Requirement already satisfied: protobuf>=3.8.0 in /usr/local/lib/python3.6/dist-packages (from tensorboardX>=1.2->allennlp) (3.10.0)\n",
            "Requirement already satisfied: jmespath<1.0.0,>=0.7.1 in /usr/local/lib/python3.6/dist-packages (from boto3->allennlp) (0.9.4)\n",
            "Requirement already satisfied: s3transfer<0.3.0,>=0.2.0 in /usr/local/lib/python3.6/dist-packages (from boto3->allennlp) (0.2.1)\n",
            "Requirement already satisfied: botocore<1.14.0,>=1.13.32 in /usr/local/lib/python3.6/dist-packages (from boto3->allennlp) (1.13.32)\n",
            "Requirement already satisfied: greenlet>=0.4.14; platform_python_implementation == \"CPython\" in /usr/local/lib/python3.6/dist-packages (from gevent>=1.3.6->allennlp) (0.4.15)\n",
            "Requirement already satisfied: certifi>=2017.4.17 in /usr/local/lib/python3.6/dist-packages (from requests>=2.18->allennlp) (2019.11.28)\n",
            "Requirement already satisfied: urllib3<1.25,>=1.21.1 in /usr/local/lib/python3.6/dist-packages (from requests>=2.18->allennlp) (1.24.3)\n",
            "Requirement already satisfied: idna<2.9,>=2.5 in /usr/local/lib/python3.6/dist-packages (from requests>=2.18->allennlp) (2.8)\n",
            "Requirement already satisfied: chardet<3.1.0,>=3.0.2 in /usr/local/lib/python3.6/dist-packages (from requests>=2.18->allennlp) (3.0.4)\n",
            "Requirement already satisfied: sphinx>=1.6.5 in /usr/local/lib/python3.6/dist-packages (from numpydoc>=0.8.0->allennlp) (1.8.5)\n",
            "Requirement already satisfied: joblib>=0.11 in /usr/local/lib/python3.6/dist-packages (from scikit-learn->allennlp) (0.14.0)\n",
            "Requirement already satisfied: python-dateutil>=2.1 in /usr/local/lib/python3.6/dist-packages (from matplotlib>=2.2.3->allennlp) (2.6.1)\n",
            "Requirement already satisfied: kiwisolver>=1.0.1 in /usr/local/lib/python3.6/dist-packages (from matplotlib>=2.2.3->allennlp) (1.1.0)\n",
            "Requirement already satisfied: cycler>=0.10 in /usr/local/lib/python3.6/dist-packages (from matplotlib>=2.2.3->allennlp) (0.10.0)\n",
            "Requirement already satisfied: pyparsing!=2.0.4,!=2.1.2,!=2.1.6,>=2.0.1 in /usr/local/lib/python3.6/dist-packages (from matplotlib>=2.2.3->allennlp) (2.4.5)\n",
            "Collecting regex\n",
            "\u001b[?25l  Downloading https://files.pythonhosted.org/packages/8c/db/4b29a0adec5881542cd81cb5d1929b5c0787003c5740b3c921e627d9c2e5/regex-2019.12.9.tar.gz (669kB)\n",
            "\u001b[K     |████████████████████████████████| 675kB 45.7MB/s \n",
            "\u001b[?25hCollecting sentencepiece\n",
            "\u001b[?25l  Downloading https://files.pythonhosted.org/packages/14/3d/efb655a670b98f62ec32d66954e1109f403db4d937c50d779a75b9763a29/sentencepiece-0.1.83-cp36-cp36m-manylinux1_x86_64.whl (1.0MB)\n",
            "\u001b[K     |████████████████████████████████| 1.0MB 42.9MB/s \n",
            "\u001b[?25hRequirement already satisfied: wcwidth in /usr/local/lib/python3.6/dist-packages (from ftfy->allennlp) (0.1.7)\n",
            "Requirement already satisfied: MarkupSafe>=0.23 in /usr/local/lib/python3.6/dist-packages (from Jinja2>=2.10.1->flask>=1.0.2->allennlp) (1.1.1)\n",
            "Requirement already satisfied: docutils<0.16,>=0.10 in /usr/local/lib/python3.6/dist-packages (from botocore<1.14.0,>=1.13.32->boto3->allennlp) (0.15.2)\n",
            "Requirement already satisfied: snowballstemmer>=1.1 in /usr/local/lib/python3.6/dist-packages (from sphinx>=1.6.5->numpydoc>=0.8.0->allennlp) (2.0.0)\n",
            "Requirement already satisfied: sphinxcontrib-websupport in /usr/local/lib/python3.6/dist-packages (from sphinx>=1.6.5->numpydoc>=0.8.0->allennlp) (1.1.2)\n",
            "Requirement already satisfied: Pygments>=2.0 in /usr/local/lib/python3.6/dist-packages (from sphinx>=1.6.5->numpydoc>=0.8.0->allennlp) (2.1.3)\n",
            "Requirement already satisfied: alabaster<0.8,>=0.7 in /usr/local/lib/python3.6/dist-packages (from sphinx>=1.6.5->numpydoc>=0.8.0->allennlp) (0.7.12)\n",
            "Requirement already satisfied: packaging in /usr/local/lib/python3.6/dist-packages (from sphinx>=1.6.5->numpydoc>=0.8.0->allennlp) (19.2)\n",
            "Requirement already satisfied: imagesize in /usr/local/lib/python3.6/dist-packages (from sphinx>=1.6.5->numpydoc>=0.8.0->allennlp) (1.1.0)\n",
            "Requirement already satisfied: babel!=2.0,>=1.3 in /usr/local/lib/python3.6/dist-packages (from sphinx>=1.6.5->numpydoc>=0.8.0->allennlp) (2.7.0)\n",
            "Building wheels for collected packages: parsimonious, word2number, jsonnet, overrides, numpydoc, ftfy, regex\n",
            "  Building wheel for parsimonious (setup.py) ... \u001b[?25l\u001b[?25hdone\n",
            "  Created wheel for parsimonious: filename=parsimonious-0.8.1-cp36-none-any.whl size=42709 sha256=1c2e72644c4340fe08f9d7422baac8a21a3301cdad71d2f3171fd10f5a43bb10\n",
            "  Stored in directory: /root/.cache/pip/wheels/b7/8d/e7/a0e74217da5caeb3c1c7689639b6d28ddbf9985b840bc96a9a\n",
            "  Building wheel for word2number (setup.py) ... \u001b[?25l\u001b[?25hdone\n",
            "  Created wheel for word2number: filename=word2number-1.1-cp36-none-any.whl size=5588 sha256=5a5ee385627b59daf689b735556326ced15a33cd372b71d3c5f6764c73c1a9a7\n",
            "  Stored in directory: /root/.cache/pip/wheels/46/2f/53/5f5c1d275492f2fce1cdab9a9bb12d49286dead829a4078e0e\n",
            "  Building wheel for jsonnet (setup.py) ... \u001b[?25l\u001b[?25hdone\n",
            "  Created wheel for jsonnet: filename=jsonnet-0.14.0-cp36-cp36m-linux_x86_64.whl size=3320341 sha256=b566b42efbddb131e43c12ebc8d4e2882dc3eca3554f846fed2be44aec54ba08\n",
            "  Stored in directory: /root/.cache/pip/wheels/5b/b7/83/985f0f758fbb34f14989a0fab86d18890d1cc5ae12f26967bc\n",
            "  Building wheel for overrides (setup.py) ... \u001b[?25l\u001b[?25hdone\n",
            "  Created wheel for overrides: filename=overrides-2.5-cp36-none-any.whl size=5407 sha256=e6be54e6252a599c139b6062e675ab77f2b9c35e5173feed6fb8dbba42160cb5\n",
            "  Stored in directory: /root/.cache/pip/wheels/be/56/0c/f5ce8e2403ae7d881e5d638fca1c1c5d21dac8eb6df5a6950f\n",
            "  Building wheel for numpydoc (setup.py) ... \u001b[?25l\u001b[?25hdone\n",
            "  Created wheel for numpydoc: filename=numpydoc-0.9.1-cp36-none-any.whl size=31872 sha256=76bb9a5721bcb14a29c27b9b85c52397a464571451379b73c588027d1343f7d1\n",
            "  Stored in directory: /root/.cache/pip/wheels/51/30/d1/92a39ba40f21cb70e53f8af96eb98f002a781843c065406500\n",
            "  Building wheel for ftfy (setup.py) ... \u001b[?25l\u001b[?25hdone\n",
            "  Created wheel for ftfy: filename=ftfy-5.6-cp36-none-any.whl size=44553 sha256=673db90199341120f48d416785e7a6354d0f20159caaf57a39d41d1a144b5cc9\n",
            "  Stored in directory: /root/.cache/pip/wheels/43/34/ce/cbb38d71543c408de56f3c5e26ce8ba495a0fa5a28eaaf1046\n",
            "  Building wheel for regex (setup.py) ... \u001b[?25l\u001b[?25hdone\n",
            "  Created wheel for regex: filename=regex-2019.12.9-cp36-cp36m-linux_x86_64.whl size=609184 sha256=fd1b8ed270b3fbb924300feebf1d2375aab386941e8822d1398841f247fe6f82\n",
            "  Stored in directory: /root/.cache/pip/wheels/0d/fb/b3/a89169557229468c49ca64f6839418f22461f6ee0a74f342b1\n",
            "Successfully built parsimonious word2number jsonnet overrides numpydoc ftfy regex\n",
            "Installing collected packages: jsonpickle, parsimonious, flaky, word2number, tensorboardX, responses, jsonnet, unidecode, overrides, numpydoc, conllu, flask-cors, regex, pytorch-pretrained-bert, sentencepiece, pytorch-transformers, ftfy, allennlp\n",
            "Successfully installed allennlp-0.9.0 conllu-1.3.1 flaky-3.6.1 flask-cors-3.0.8 ftfy-5.6 jsonnet-0.14.0 jsonpickle-1.2 numpydoc-0.9.1 overrides-2.5 parsimonious-0.8.1 pytorch-pretrained-bert-0.6.2 pytorch-transformers-1.1.0 regex-2019.12.9 responses-0.10.7 sentencepiece-0.1.83 tensorboardX-1.9 unidecode-1.1.1 word2number-1.1\n"
          ],
          "name": "stdout"
        }
      ]
    },
    {
      "cell_type": "code",
      "metadata": {
        "id": "q-azm5IPtTym",
        "colab_type": "code",
        "outputId": "a4a435e8-143c-4600-d191-b120458525b8",
        "colab": {
          "base_uri": "https://localhost:8080/",
          "height": 463
        }
      },
      "source": [
        "!wget 'https://www.dropbox.com/s/lsp4k371dihe0li/all.a010.p10.d300.w5.m100.nonorm.slim.joblib'"
      ],
      "execution_count": 0,
      "outputs": [
        {
          "output_type": "stream",
          "text": [
            "--2019-12-09 21:30:04--  https://www.dropbox.com/s/lsp4k371dihe0li/all.a010.p10.d300.w5.m100.nonorm.slim.joblib\n",
            "Resolving www.dropbox.com (www.dropbox.com)... 162.125.65.1, 2620:100:6021:1::a27d:4101\n",
            "Connecting to www.dropbox.com (www.dropbox.com)|162.125.65.1|:443... connected.\n",
            "HTTP request sent, awaiting response... 301 Moved Permanently\n",
            "Location: /s/raw/lsp4k371dihe0li/all.a010.p10.d300.w5.m100.nonorm.slim.joblib [following]\n",
            "--2019-12-09 21:30:04--  https://www.dropbox.com/s/raw/lsp4k371dihe0li/all.a010.p10.d300.w5.m100.nonorm.slim.joblib\n",
            "Reusing existing connection to www.dropbox.com:443.\n",
            "HTTP request sent, awaiting response... 302 Found\n",
            "Location: https://uc955d694d8b6c682266768cfade.dl.dropboxusercontent.com/cd/0/inline/At4oelFKEoMyCvPPVM5jizLUNpO3_hl5PvV7Ca1mchFDQJVIWv9MKoSj2ampJrA5zO7cALTf2P2q1SRIm2ACkzj0SwZwRowwq4AtqGAxkm-xYAR3KL_4G3EHpS2yPZmOKq8/file# [following]\n",
            "--2019-12-09 21:30:05--  https://uc955d694d8b6c682266768cfade.dl.dropboxusercontent.com/cd/0/inline/At4oelFKEoMyCvPPVM5jizLUNpO3_hl5PvV7Ca1mchFDQJVIWv9MKoSj2ampJrA5zO7cALTf2P2q1SRIm2ACkzj0SwZwRowwq4AtqGAxkm-xYAR3KL_4G3EHpS2yPZmOKq8/file\n",
            "Resolving uc955d694d8b6c682266768cfade.dl.dropboxusercontent.com (uc955d694d8b6c682266768cfade.dl.dropboxusercontent.com)... 162.125.8.6, 2620:100:601b:6::a27d:806\n",
            "Connecting to uc955d694d8b6c682266768cfade.dl.dropboxusercontent.com (uc955d694d8b6c682266768cfade.dl.dropboxusercontent.com)|162.125.8.6|:443... connected.\n",
            "HTTP request sent, awaiting response... 302 FOUND\n",
            "Location: /cd/0/inline2/At5CFRR4baNmAFXxtTB6icQpVO1BM0v913nc4pXMNXho4V9tmnswOM-M6pBsehmDO1BFRPdUsT2jULKSxaEIbbqqbh2M3pq_g7YfhxQuCcybcoM0NPqOheZLgH4TkX7p5_vS5XaY9gdH5B4S5cRAhNHaZEqjwGQSs7ylwDOmzUvE3Y83iJrU1-iKUcSnw7uCM1NwfUGq3ROa-rlMkHtc7VAt0bfuvth6HGgiNPCVKNqHP8Ed284GIcCjSDycpGGrgeQjKU5FzVai8fRn5cBffQ9CxhM7eK1sLeQIqdc4aOf2qddAbgALsb6yX3cIJ7bL_7786f-qOYn5z3UUi-TcV1kZkZ6EWKTo22F8Hrxz1ZDrnQ/file [following]\n",
            "--2019-12-09 21:30:05--  https://uc955d694d8b6c682266768cfade.dl.dropboxusercontent.com/cd/0/inline2/At5CFRR4baNmAFXxtTB6icQpVO1BM0v913nc4pXMNXho4V9tmnswOM-M6pBsehmDO1BFRPdUsT2jULKSxaEIbbqqbh2M3pq_g7YfhxQuCcybcoM0NPqOheZLgH4TkX7p5_vS5XaY9gdH5B4S5cRAhNHaZEqjwGQSs7ylwDOmzUvE3Y83iJrU1-iKUcSnw7uCM1NwfUGq3ROa-rlMkHtc7VAt0bfuvth6HGgiNPCVKNqHP8Ed284GIcCjSDycpGGrgeQjKU5FzVai8fRn5cBffQ9CxhM7eK1sLeQIqdc4aOf2qddAbgALsb6yX3cIJ7bL_7786f-qOYn5z3UUi-TcV1kZkZ6EWKTo22F8Hrxz1ZDrnQ/file\n",
            "Reusing existing connection to uc955d694d8b6c682266768cfade.dl.dropboxusercontent.com:443.\n",
            "HTTP request sent, awaiting response... 200 OK\n",
            "Length: 1462416741 (1.4G) [application/octet-stream]\n",
            "Saving to: ‘all.a010.p10.d300.w5.m100.nonorm.slim.joblib’\n",
            "\n",
            "all.a010.p10.d300.w 100%[===================>]   1.36G  27.3MB/s    in 53s     \n",
            "\n",
            "2019-12-09 21:30:59 (26.5 MB/s) - ‘all.a010.p10.d300.w5.m100.nonorm.slim.joblib’ saved [1462416741/1462416741]\n",
            "\n"
          ],
          "name": "stdout"
        }
      ]
    },
    {
      "cell_type": "code",
      "metadata": {
        "id": "E8evsZKi8qk2",
        "colab_type": "code",
        "outputId": "96bca61e-74b2-47e9-94ba-65ccc23069cf",
        "colab": {
          "base_uri": "https://localhost:8080/",
          "height": 212
        }
      },
      "source": [
        "!pip install pymorphy2"
      ],
      "execution_count": 0,
      "outputs": [
        {
          "output_type": "stream",
          "text": [
            "Collecting pymorphy2\n",
            "\u001b[?25l  Downloading https://files.pythonhosted.org/packages/a3/33/fff9675c68b5f6c63ec8c6e6ff57827dda28a1fa5b2c2d727dffff92dd47/pymorphy2-0.8-py2.py3-none-any.whl (46kB)\n",
            "\r\u001b[K     |███████                         | 10kB 18.4MB/s eta 0:00:01\r\u001b[K     |██████████████▏                 | 20kB 4.1MB/s eta 0:00:01\r\u001b[K     |█████████████████████▎          | 30kB 5.8MB/s eta 0:00:01\r\u001b[K     |████████████████████████████▍   | 40kB 3.9MB/s eta 0:00:01\r\u001b[K     |████████████████████████████████| 51kB 2.6MB/s \n",
            "\u001b[?25hCollecting dawg-python>=0.7\n",
            "  Downloading https://files.pythonhosted.org/packages/6a/84/ff1ce2071d4c650ec85745766c0047ccc3b5036f1d03559fd46bb38b5eeb/DAWG_Python-0.7.2-py2.py3-none-any.whl\n",
            "Requirement already satisfied: docopt>=0.6 in /usr/local/lib/python3.6/dist-packages (from pymorphy2) (0.6.2)\n",
            "Collecting pymorphy2-dicts<3.0,>=2.4\n",
            "\u001b[?25l  Downloading https://files.pythonhosted.org/packages/02/51/2465fd4f72328ab50877b54777764d928da8cb15b74e2680fc1bd8cb3173/pymorphy2_dicts-2.4.393442.3710985-py2.py3-none-any.whl (7.1MB)\n",
            "\u001b[K     |████████████████████████████████| 7.1MB 11.4MB/s \n",
            "\u001b[?25hInstalling collected packages: dawg-python, pymorphy2-dicts, pymorphy2\n",
            "Successfully installed dawg-python-0.7.2 pymorphy2-0.8 pymorphy2-dicts-2.4.393442.3710985\n"
          ],
          "name": "stdout"
        }
      ]
    },
    {
      "cell_type": "code",
      "metadata": {
        "id": "sAxoMLiw8UX2",
        "colab_type": "code",
        "colab": {}
      },
      "source": [
        "import adagram\n",
        "from allennlp.commands.elmo import ElmoEmbedder\n",
        "import pandas as pd\n",
        "from lxml import html\n",
        "from nltk.tokenize import RegexpTokenizer\n",
        "from nltk.corpus import stopwords\n",
        "from pymorphy2 import MorphAnalyzer\n",
        "from pymystem3 import Mystem\n",
        "import tqdm\n",
        "from sklearn.metrics import adjusted_rand_score, accuracy_score, confusion_matrix\n",
        "from sklearn.decomposition import PCA\n",
        "from sklearn.cluster import *\n",
        "from collections import Counter\n",
        "import numpy as np\n",
        "from matplotlib import pyplot as plt\n",
        "%matplotlib inline\n",
        "import warnings\n",
        "warnings.filterwarnings('ignore')\n",
        "import seaborn as sns\n"
      ],
      "execution_count": 0,
      "outputs": []
    },
    {
      "cell_type": "code",
      "metadata": {
        "id": "T5GeR-4f82Di",
        "colab_type": "code",
        "outputId": "94addf30-a0c3-4455-a9e5-d453496fa4e6",
        "colab": {
          "base_uri": "https://localhost:8080/",
          "height": 70
        }
      },
      "source": [
        "import nltk\n",
        "nltk.download('stopwords')"
      ],
      "execution_count": 0,
      "outputs": [
        {
          "output_type": "stream",
          "text": [
            "[nltk_data] Downloading package stopwords to /root/nltk_data...\n",
            "[nltk_data]   Unzipping corpora/stopwords.zip.\n"
          ],
          "name": "stdout"
        },
        {
          "output_type": "execute_result",
          "data": {
            "text/plain": [
              "True"
            ]
          },
          "metadata": {
            "tags": []
          },
          "execution_count": 6
        }
      ]
    },
    {
      "cell_type": "code",
      "metadata": {
        "id": "-Jsw9Aa-8nM-",
        "colab_type": "code",
        "colab": {}
      },
      "source": [
        "morph = MorphAnalyzer()\n",
        "token = RegexpTokenizer('\\w+')\n",
        "stops = set(stopwords.words('russian'))"
      ],
      "execution_count": 0,
      "outputs": []
    },
    {
      "cell_type": "code",
      "metadata": {
        "id": "A3LORkD4b5xy",
        "colab_type": "code",
        "colab": {}
      },
      "source": [
        "def normalize_pm(text):\n",
        "    words = [morph.parse(word)[0].normal_form for word in tokenize(text) if word]\n",
        "    return words\n",
        "\n",
        "def tokenize(text):\n",
        "    return token.tokenize(text)"
      ],
      "execution_count": 0,
      "outputs": []
    },
    {
      "cell_type": "code",
      "metadata": {
        "id": "j1Serh9S2jlQ",
        "colab_type": "code",
        "colab": {}
      },
      "source": [
        "vm = adagram.VectorModel.load('all.a010.p10.d300.w5.m100.nonorm.slim.joblib')"
      ],
      "execution_count": 0,
      "outputs": []
    },
    {
      "cell_type": "markdown",
      "metadata": {
        "id": "OkUsI-fEadTL",
        "colab_type": "text"
      },
      "source": [
        "# Работаем!\n",
        "## §1\n"
      ]
    },
    {
      "cell_type": "markdown",
      "metadata": {
        "id": "I-NYTDh0gjC9",
        "colab_type": "text"
      },
      "source": [
        "Выбранное слово - свет.\n",
        "Основные значения:\n",
        "* Свет1:\n",
        "  * Лучистая  энергия,  делающая  окружающий мир видимым;электромагнитные  волны  в интервале  частот, воспринимаемых глазом. *Диагностические слова:* **источник, излучение, видимый, луч**\n",
        "  * Освещенность, состояние, когда светло. *Диагностические слова:* **тусклый, яркий, сияние, дневной**\n",
        "* Свет2:\n",
        "  * Земля, Вселенная, а  также люди, ее  населяющие. *Диагностические слова:* **мир, Земля, путешествие, появиться**\n",
        "\n",
        "Использованный источник - толковый словарь Ожегова, изд. 1992 г. (http://lib.ru/DIC/OZHEGOW/ozhegow_s_q.txt)"
      ]
    },
    {
      "cell_type": "code",
      "metadata": {
        "id": "mxHmQy_emYR1",
        "colab_type": "code",
        "colab": {}
      },
      "source": [
        "#Свет1.1:\n",
        "physical_light_sentences = ['Даже два одинаковых рисунка при разных источниках света выглядят по-разному.',\n",
        "                            'Источником какого света для нас являются сумерки, утренние и вечерние зори?',\n",
        "                            'Поскольку водяной пар хорошо поглощает ближнее инфракрасное излучение, но практически прозрачен для видимого света, астрономы смогли определить его присутствие в атмосфере экзопланет.',\n",
        "                            'Ток нагревает проводник (например, вольфрамовую спираль), отчего тот испускает излучение, в том числе видимый свет.',\n",
        "                            'Вот на излучение (свет, например) это точно работает.',\n",
        "                            'Светодиод имеет другой принцип излучения света, который требует, прежде всего, гораздо меньшей потребляемой мощности.',\n",
        "                            'Длина волны зелёного луча света в воздухе равна длине волны красного луча в воде.',\n",
        "                            'окна надо было чуть ли не заклеить чёрной бумагой, чтоб ни один луч света не проникал']\n",
        "\n",
        "#Свет1.2:\n",
        "static_light_sentences = ['в окнах безмолвно отражается залитая тусклым жёлтым светом разорённая нищета, так или иначе чувствуешь бесприютность.',\n",
        "                          'Перед ним в тусклом жёлтом свете стояла, придерживая полы халата, Мариетта Ивановна.',\n",
        "                          'В летний день, когда всё залито ярким светом, зрачки кошки резко сужаются, превращаясь в тонкие щёлки.',\n",
        "                          'Старик поморгал, словно от яркого света, прикрыл худыми ладонями лицо, потом повернулся на бок к стене, будто подремать решил.',\n",
        "                          'И вдруг словно свет полярного сияния замерцал по рядам: Сталин умер!',\n",
        "                          'Где живость красок и сияние света?',\n",
        "                          'Рассказывали, расспрашивали, глядели друг на дружку при дневном уже свете.',\n",
        "                          'Но это ощущение обманчиво, ибо только при дневном свете можно разглядеть, насколько грязными они становятся через неделю пребывания под землёй.']\n",
        "\n",
        "#Свет2:\n",
        "world_light_sentences = ['Не согласен больше с этой жизнью, этим миром, этим светом, слишком не белым.',\n",
        "                         'Герострат сжёг храм Артемиды ― одно из семи чудес света Древнего мира.',\n",
        "                         'Когда-то Новый Свет Земли был без лишних споров поделен между двумя сверхдержавами своего времени, Испанией и Португалией.',\n",
        "                         'И о том, что перед смертью, прощаясь с белым светом, сторонами Земли и иным прижизненным окружением, они называли по именам всех своих детей…',\n",
        "                         'Он употребил его в отчете о путешествии вокруг света, опубликованном в 1773 году.',\n",
        "                         'В него вошли журналы: «Наука и жизнь», «Знание ― сила», «Путешествие по свету», «Химия и жизнь XXI век».',\n",
        "                         'В результате данного ОЕМ-соглашения на свет появились первые модели серии StorEdge 3000.',\n",
        "                         'Ирина закрывала глаза и молилась, чтобы ребёнок не появился на свет.']"
      ],
      "execution_count": 0,
      "outputs": []
    },
    {
      "cell_type": "markdown",
      "metadata": {
        "id": "B241ZgA-2bNV",
        "colab_type": "text"
      },
      "source": [
        "## §2\n",
        "\n",
        "Для начала посмотрим, какую дизамбигуацию нам дает сферический адаграм в вакууме."
      ]
    },
    {
      "cell_type": "code",
      "metadata": {
        "id": "yNcnZAWD9WRv",
        "colab_type": "code",
        "outputId": "41593dc9-1f49-4c03-ff34-28e680ceaf47",
        "colab": {
          "base_uri": "https://localhost:8080/",
          "height": 123
        }
      },
      "source": [
        "vm.word_sense_probs('свет')"
      ],
      "execution_count": 0,
      "outputs": [
        {
          "output_type": "execute_result",
          "data": {
            "text/plain": [
              "[(0, 0.10958200299171707),\n",
              " (1, 0.28889593098959726),\n",
              " (2, 0.22618001157825376),\n",
              " (3, 0.11159016453333064),\n",
              " (4, 0.13259494691818238),\n",
              " (5, 0.13115681995171802)]"
            ]
          },
          "metadata": {
            "tags": []
          },
          "execution_count": 11
        }
      ]
    },
    {
      "cell_type": "code",
      "metadata": {
        "id": "LS3aUhvu9Yqo",
        "colab_type": "code",
        "outputId": "f497ea8a-8fbd-494a-f67c-50ebeed48eff",
        "colab": {
          "base_uri": "https://localhost:8080/",
          "height": 303
        }
      },
      "source": [
        "collocates_to_types = {} #создадим на будущее словарь, чтобы потом использовать его для оценки accuracy и т.д.\n",
        "collocates_to_types_by_word = {}\n",
        "for i in range(5):\n",
        "  print(i)\n",
        "  best_10 = vm.sense_neighbors('свет', i) \n",
        "  print(best_10)\n",
        "  collocates_to_types[tuple(best_10)] = i\n",
        "  print('__________________')\n",
        "\n",
        "  for word in best_10:\n",
        "    w = word[0]\n",
        "    if w in collocates_to_types_by_word.keys():\n",
        "      del collocates_to_types_by_word[w]\n",
        "    else:\n",
        "      collocates_to_types_by_word[w] = i\n"
      ],
      "execution_count": 0,
      "outputs": [
        {
          "output_type": "stream",
          "text": [
            "0\n",
            "[('луч', 1, 0.74209464), ('световой', 1, 0.7118988), ('рассеивать', 0, 0.67998713), ('излучение', 2, 0.6780513), ('спектр', 3, 0.6602384), ('излучать', 0, 0.65674734), ('монохроматический', 0, 0.65437716), ('интенсивность', 0, 0.65404993), ('радиоволна', 0, 0.6538729), ('фотон', 0, 0.6513885)]\n",
            "__________________\n",
            "1\n",
            "[('сияние', 0, 0.8441459), ('бледный', 0, 0.77602106), ('отблеск', 0, 0.77482814), ('неяркий', 0, 0.77332705), ('свечение', 1, 0.7703127), ('мерцание', 0, 0.7677323), ('отсвет', 0, 0.7609194), ('тусклый', 0, 0.754006), ('блик', 1, 0.74678814), ('блик', 0, 0.74521506)]\n",
            "__________________\n",
            "2\n",
            "[('земля', 1, 0.48637575), ('похожий', 0, 0.4651765), ('походить', 0, 0.43085188), ('мир', 3, 0.42383873), ('планета', 4, 0.40554008), ('край', 4, 0.38195944), ('диво', 2, 0.37982717), ('сцена', 1, 0.37856242), ('способный', 3, 0.3751216), ('жениться', 1, 0.373528)]\n",
            "__________________\n",
            "3\n",
            "[('появляться', 1, 0.4725476), ('переиздание', 1, 0.46436742), ('выходить', 0, 0.45973048), ('издание', 0, 0.45354354), ('книга', 1, 0.45046142), ('сборник', 0, 0.44090274), ('трехтомник', 0, 0.43791154), ('1869', 2, 0.43528023), ('экран', 1, 0.42794102), ('журнал', 0, 0.42413685)]\n",
            "__________________\n",
            "4\n",
            "[('сияние', 1, 0.7160883), ('сиять', 2, 0.65473086), ('озарять', 2, 0.65236413), ('тьма', 1, 0.6359536), ('луч', 3, 0.63310206), ('истина', 0, 0.6304866), ('светоч', 0, 0.62415904), ('неизреченный', 0, 0.6125253), ('вечность', 2, 0.6069799), ('лучезарный', 1, 0.60011107)]\n",
            "__________________\n"
          ],
          "name": "stdout"
        }
      ]
    },
    {
      "cell_type": "code",
      "metadata": {
        "id": "xhsfkNmU2X4S",
        "colab_type": "code",
        "outputId": "d7a760af-bd59-4424-fc4f-0e01c367705b",
        "colab": {
          "base_uri": "https://localhost:8080/",
          "height": 34
        }
      },
      "source": [
        "len(collocates_to_types_by_word)"
      ],
      "execution_count": 0,
      "outputs": [
        {
          "output_type": "execute_result",
          "data": {
            "text/plain": [
              "44"
            ]
          },
          "metadata": {
            "tags": []
          },
          "execution_count": 13
        }
      ]
    },
    {
      "cell_type": "markdown",
      "metadata": {
        "id": "cYPG_Dkc2z0t",
        "colab_type": "text"
      },
      "source": [
        "Видим, что первому значению из толкового словаря соответствует 0-е значение из Адаграма, второму - 1-е значение, третьему - 2-е.\n"
      ]
    },
    {
      "cell_type": "code",
      "metadata": {
        "id": "0b8t-3V_Q6gp",
        "colab_type": "code",
        "colab": {}
      },
      "source": [
        "def most_frequent(List): \n",
        "    occurence_count = Counter(List) \n",
        "    return occurence_count.most_common(1)[0][0] \n",
        "  "
      ],
      "execution_count": 0,
      "outputs": []
    },
    {
      "cell_type": "code",
      "metadata": {
        "id": "n30HQZzH6j5Y",
        "colab_type": "code",
        "outputId": "b89b7a0d-98ce-49fb-987f-14d65f78e17f",
        "colab": {
          "base_uri": "https://localhost:8080/",
          "height": 1000
        }
      },
      "source": [
        "total_testset = [physical_light_sentences, static_light_sentences, world_light_sentences]\n",
        "meanings = ['свет 1.1: Физическое явление', 'свет 1.2: освещенность', 'свет 2: мир']\n",
        "clusters = [0, 1, 2]\n",
        "y_real, y_pred_total, y_pred_wordwise = [], [], []\n",
        "\n",
        "for i in range(len(total_testset)):\n",
        "  print(meanings[i])\n",
        "\n",
        "  for j in total_testset[i]:\n",
        "    sentence = j\n",
        "    print(sentence)\n",
        "    means = vm.disambiguate('свет', normalize_pm(sentence))\n",
        "\n",
        "    collocates = vm.sense_neighbors('свет', np.argmax(means))\n",
        "    collocates = tuple(collocates)\n",
        "    #print(collocates)\n",
        "\n",
        "    try:\n",
        "      cluster = collocates_to_types[collocates]\n",
        "    except:\n",
        "      cluster = 10 #указатель на непринадлежность ни к какому классу\n",
        "    \n",
        "    print(f'predicted class (total): {cluster}; real class: {clusters[i]}')\n",
        "    y_real.append(clusters[i])\n",
        "    y_pred_total.append(cluster)\n",
        "    types_by_word = []\n",
        "    for collocate in collocates:\n",
        "      print(collocate[0])\n",
        "      if collocate[0] in collocates_to_types_by_word.keys():\n",
        "        #print(collocate)\n",
        "        types_by_word.append(collocates_to_types_by_word[collocate[0]])\n",
        "    print(types_by_word)\n",
        "    try:\n",
        "      pred_class_by_word = most_frequent(types_by_word)\n",
        "    except:\n",
        "      pred_class_by_word = -1\n",
        "    print(f'predicted class (word-wise): {pred_class_by_word}; real class: {clusters[i]}')\n",
        "    y_pred_wordwise.append(pred_class_by_word)\n",
        "\n",
        "\n",
        "    print('\\n')\n",
        "  print('________')"
      ],
      "execution_count": 0,
      "outputs": [
        {
          "output_type": "stream",
          "text": [
            "свет 1.1: Физическое явление\n",
            "Даже два одинаковых рисунка при разных источниках света выглядят по-разному.\n",
            "predicted class (total): 0; real class: 0\n",
            "луч\n",
            "световой\n",
            "рассеивать\n",
            "излучение\n",
            "спектр\n",
            "излучать\n",
            "монохроматический\n",
            "интенсивность\n",
            "радиоволна\n",
            "фотон\n",
            "[0, 0, 0, 0, 0, 0, 0, 0, 0]\n",
            "predicted class (word-wise): 0; real class: 0\n",
            "\n",
            "\n",
            "Источником какого света для нас являются сумерки, утренние и вечерние зори?\n",
            "predicted class (total): 1; real class: 0\n",
            "сияние\n",
            "бледный\n",
            "отблеск\n",
            "неяркий\n",
            "свечение\n",
            "мерцание\n",
            "отсвет\n",
            "тусклый\n",
            "блик\n",
            "блик\n",
            "[1, 1, 1, 1, 1, 1, 1]\n",
            "predicted class (word-wise): 1; real class: 0\n",
            "\n",
            "\n",
            "Поскольку водяной пар хорошо поглощает ближнее инфракрасное излучение, но практически прозрачен для видимого света, астрономы смогли определить его присутствие в атмосфере экзопланет.\n",
            "predicted class (total): 0; real class: 0\n",
            "луч\n",
            "световой\n",
            "рассеивать\n",
            "излучение\n",
            "спектр\n",
            "излучать\n",
            "монохроматический\n",
            "интенсивность\n",
            "радиоволна\n",
            "фотон\n",
            "[0, 0, 0, 0, 0, 0, 0, 0, 0]\n",
            "predicted class (word-wise): 0; real class: 0\n",
            "\n",
            "\n",
            "Ток нагревает проводник (например, вольфрамовую спираль), отчего тот испускает излучение, в том числе видимый свет.\n",
            "predicted class (total): 0; real class: 0\n",
            "луч\n",
            "световой\n",
            "рассеивать\n",
            "излучение\n",
            "спектр\n",
            "излучать\n",
            "монохроматический\n",
            "интенсивность\n",
            "радиоволна\n",
            "фотон\n",
            "[0, 0, 0, 0, 0, 0, 0, 0, 0]\n",
            "predicted class (word-wise): 0; real class: 0\n",
            "\n",
            "\n",
            "Вот на излучение (свет, например) это точно работает.\n",
            "predicted class (total): 0; real class: 0\n",
            "луч\n",
            "световой\n",
            "рассеивать\n",
            "излучение\n",
            "спектр\n",
            "излучать\n",
            "монохроматический\n",
            "интенсивность\n",
            "радиоволна\n",
            "фотон\n",
            "[0, 0, 0, 0, 0, 0, 0, 0, 0]\n",
            "predicted class (word-wise): 0; real class: 0\n",
            "\n",
            "\n",
            "Светодиод имеет другой принцип излучения света, который требует, прежде всего, гораздо меньшей потребляемой мощности.\n",
            "predicted class (total): 0; real class: 0\n",
            "луч\n",
            "световой\n",
            "рассеивать\n",
            "излучение\n",
            "спектр\n",
            "излучать\n",
            "монохроматический\n",
            "интенсивность\n",
            "радиоволна\n",
            "фотон\n",
            "[0, 0, 0, 0, 0, 0, 0, 0, 0]\n",
            "predicted class (word-wise): 0; real class: 0\n",
            "\n",
            "\n",
            "Длина волны зелёного луча света в воздухе равна длине волны красного луча в воде.\n",
            "predicted class (total): 0; real class: 0\n",
            "луч\n",
            "световой\n",
            "рассеивать\n",
            "излучение\n",
            "спектр\n",
            "излучать\n",
            "монохроматический\n",
            "интенсивность\n",
            "радиоволна\n",
            "фотон\n",
            "[0, 0, 0, 0, 0, 0, 0, 0, 0]\n",
            "predicted class (word-wise): 0; real class: 0\n",
            "\n",
            "\n",
            "окна надо было чуть ли не заклеить чёрной бумагой, чтоб ни один луч света не проникал\n",
            "predicted class (total): 10; real class: 0\n",
            "лампа\n",
            "ночник\n",
            "погасить\n",
            "зажигать\n",
            "лампа\n",
            "зажигаться\n",
            "освещение\n",
            "лампочка\n",
            "дневной\n",
            "фонарь\n",
            "[]\n",
            "predicted class (word-wise): -1; real class: 0\n",
            "\n",
            "\n",
            "________\n",
            "свет 1.2: освещенность\n",
            "в окнах безмолвно отражается залитая тусклым жёлтым светом разорённая нищета, так или иначе чувствуешь бесприютность.\n",
            "predicted class (total): 1; real class: 1\n",
            "сияние\n",
            "бледный\n",
            "отблеск\n",
            "неяркий\n",
            "свечение\n",
            "мерцание\n",
            "отсвет\n",
            "тусклый\n",
            "блик\n",
            "блик\n",
            "[1, 1, 1, 1, 1, 1, 1]\n",
            "predicted class (word-wise): 1; real class: 1\n",
            "\n",
            "\n",
            "Перед ним в тусклом жёлтом свете стояла, придерживая полы халата, Мариетта Ивановна.\n",
            "predicted class (total): 1; real class: 1\n",
            "сияние\n",
            "бледный\n",
            "отблеск\n",
            "неяркий\n",
            "свечение\n",
            "мерцание\n",
            "отсвет\n",
            "тусклый\n",
            "блик\n",
            "блик\n",
            "[1, 1, 1, 1, 1, 1, 1]\n",
            "predicted class (word-wise): 1; real class: 1\n",
            "\n",
            "\n",
            "В летний день, когда всё залито ярким светом, зрачки кошки резко сужаются, превращаясь в тонкие щёлки.\n",
            "predicted class (total): 1; real class: 1\n",
            "сияние\n",
            "бледный\n",
            "отблеск\n",
            "неяркий\n",
            "свечение\n",
            "мерцание\n",
            "отсвет\n",
            "тусклый\n",
            "блик\n",
            "блик\n",
            "[1, 1, 1, 1, 1, 1, 1]\n",
            "predicted class (word-wise): 1; real class: 1\n",
            "\n",
            "\n",
            "Старик поморгал, словно от яркого света, прикрыл худыми ладонями лицо, потом повернулся на бок к стене, будто подремать решил.\n",
            "predicted class (total): 1; real class: 1\n",
            "сияние\n",
            "бледный\n",
            "отблеск\n",
            "неяркий\n",
            "свечение\n",
            "мерцание\n",
            "отсвет\n",
            "тусклый\n",
            "блик\n",
            "блик\n",
            "[1, 1, 1, 1, 1, 1, 1]\n",
            "predicted class (word-wise): 1; real class: 1\n",
            "\n",
            "\n",
            "И вдруг словно свет полярного сияния замерцал по рядам: Сталин умер!\n",
            "predicted class (total): 1; real class: 1\n",
            "сияние\n",
            "бледный\n",
            "отблеск\n",
            "неяркий\n",
            "свечение\n",
            "мерцание\n",
            "отсвет\n",
            "тусклый\n",
            "блик\n",
            "блик\n",
            "[1, 1, 1, 1, 1, 1, 1]\n",
            "predicted class (word-wise): 1; real class: 1\n",
            "\n",
            "\n",
            "Где живость красок и сияние света?\n",
            "predicted class (total): 1; real class: 1\n",
            "сияние\n",
            "бледный\n",
            "отблеск\n",
            "неяркий\n",
            "свечение\n",
            "мерцание\n",
            "отсвет\n",
            "тусклый\n",
            "блик\n",
            "блик\n",
            "[1, 1, 1, 1, 1, 1, 1]\n",
            "predicted class (word-wise): 1; real class: 1\n",
            "\n",
            "\n",
            "Рассказывали, расспрашивали, глядели друг на дружку при дневном уже свете.\n",
            "predicted class (total): 10; real class: 1\n",
            "лампа\n",
            "ночник\n",
            "погасить\n",
            "зажигать\n",
            "лампа\n",
            "зажигаться\n",
            "освещение\n",
            "лампочка\n",
            "дневной\n",
            "фонарь\n",
            "[]\n",
            "predicted class (word-wise): -1; real class: 1\n",
            "\n",
            "\n",
            "Но это ощущение обманчиво, ибо только при дневном свете можно разглядеть, насколько грязными они становятся через неделю пребывания под землёй.\n",
            "predicted class (total): 10; real class: 1\n",
            "лампа\n",
            "ночник\n",
            "погасить\n",
            "зажигать\n",
            "лампа\n",
            "зажигаться\n",
            "освещение\n",
            "лампочка\n",
            "дневной\n",
            "фонарь\n",
            "[]\n",
            "predicted class (word-wise): -1; real class: 1\n",
            "\n",
            "\n",
            "________\n",
            "свет 2: мир\n",
            "Не согласен больше с этой жизнью, этим миром, этим светом, слишком не белым.\n",
            "predicted class (total): 2; real class: 2\n",
            "земля\n",
            "похожий\n",
            "походить\n",
            "мир\n",
            "планета\n",
            "край\n",
            "диво\n",
            "сцена\n",
            "способный\n",
            "жениться\n",
            "[2, 2, 2, 2, 2, 2, 2, 2, 2, 2]\n",
            "predicted class (word-wise): 2; real class: 2\n",
            "\n",
            "\n",
            "Герострат сжёг храм Артемиды ― одно из семи чудес света Древнего мира.\n",
            "predicted class (total): 4; real class: 2\n",
            "сияние\n",
            "сиять\n",
            "озарять\n",
            "тьма\n",
            "луч\n",
            "истина\n",
            "светоч\n",
            "неизреченный\n",
            "вечность\n",
            "лучезарный\n",
            "[4, 4, 4, 4, 4, 4, 4, 4]\n",
            "predicted class (word-wise): 4; real class: 2\n",
            "\n",
            "\n",
            "Когда-то Новый Свет Земли был без лишних споров поделен между двумя сверхдержавами своего времени, Испанией и Португалией.\n",
            "predicted class (total): 4; real class: 2\n",
            "сияние\n",
            "сиять\n",
            "озарять\n",
            "тьма\n",
            "луч\n",
            "истина\n",
            "светоч\n",
            "неизреченный\n",
            "вечность\n",
            "лучезарный\n",
            "[4, 4, 4, 4, 4, 4, 4, 4]\n",
            "predicted class (word-wise): 4; real class: 2\n",
            "\n",
            "\n",
            "И о том, что перед смертью, прощаясь с белым светом, сторонами Земли и иным прижизненным окружением, они называли по именам всех своих детей…\n",
            "predicted class (total): 4; real class: 2\n",
            "сияние\n",
            "сиять\n",
            "озарять\n",
            "тьма\n",
            "луч\n",
            "истина\n",
            "светоч\n",
            "неизреченный\n",
            "вечность\n",
            "лучезарный\n",
            "[4, 4, 4, 4, 4, 4, 4, 4]\n",
            "predicted class (word-wise): 4; real class: 2\n",
            "\n",
            "\n",
            "Он употребил его в отчете о путешествии вокруг света, опубликованном в 1773 году.\n",
            "predicted class (total): 3; real class: 2\n",
            "появляться\n",
            "переиздание\n",
            "выходить\n",
            "издание\n",
            "книга\n",
            "сборник\n",
            "трехтомник\n",
            "1869\n",
            "экран\n",
            "журнал\n",
            "[3, 3, 3, 3, 3, 3, 3, 3, 3, 3]\n",
            "predicted class (word-wise): 3; real class: 2\n",
            "\n",
            "\n",
            "В него вошли журналы: «Наука и жизнь», «Знание ― сила», «Путешествие по свету», «Химия и жизнь XXI век».\n",
            "predicted class (total): 4; real class: 2\n",
            "сияние\n",
            "сиять\n",
            "озарять\n",
            "тьма\n",
            "луч\n",
            "истина\n",
            "светоч\n",
            "неизреченный\n",
            "вечность\n",
            "лучезарный\n",
            "[4, 4, 4, 4, 4, 4, 4, 4]\n",
            "predicted class (word-wise): 4; real class: 2\n",
            "\n",
            "\n",
            "В результате данного ОЕМ-соглашения на свет появились первые модели серии StorEdge 3000.\n",
            "predicted class (total): 3; real class: 2\n",
            "появляться\n",
            "переиздание\n",
            "выходить\n",
            "издание\n",
            "книга\n",
            "сборник\n",
            "трехтомник\n",
            "1869\n",
            "экран\n",
            "журнал\n",
            "[3, 3, 3, 3, 3, 3, 3, 3, 3, 3]\n",
            "predicted class (word-wise): 3; real class: 2\n",
            "\n",
            "\n",
            "Ирина закрывала глаза и молилась, чтобы ребёнок не появился на свет.\n",
            "predicted class (total): 10; real class: 2\n",
            "лампа\n",
            "ночник\n",
            "погасить\n",
            "зажигать\n",
            "лампа\n",
            "зажигаться\n",
            "освещение\n",
            "лампочка\n",
            "дневной\n",
            "фонарь\n",
            "[]\n",
            "predicted class (word-wise): -1; real class: 2\n",
            "\n",
            "\n",
            "________\n"
          ],
          "name": "stdout"
        }
      ]
    },
    {
      "cell_type": "markdown",
      "metadata": {
        "id": "HYeMzq0ctIKq",
        "colab_type": "text"
      },
      "source": [
        "По результатам кода можно увидеть, что в большинстве случаев значения и коллокаты совпадают с ожидаемыми. Исключение составляет значение \"Свет2\"."
      ]
    },
    {
      "cell_type": "markdown",
      "metadata": {
        "id": "1U3YSMm5YpUr",
        "colab_type": "text"
      },
      "source": [
        "## §3"
      ]
    },
    {
      "cell_type": "code",
      "metadata": {
        "id": "KT4K74NWTWG7",
        "colab_type": "code",
        "colab": {}
      },
      "source": [
        "physical_light_dictionary = 'Лучистая  энергия,  делающая  окружающий мир видимым; электромагнитные  волны  в интервале  частот, воспринимаемых глазом.'\n",
        "static_light_dictionary = 'Освещенность, состояние, когда светло.'\n",
        "world_light_dictionary = 'Земля, Вселенная, а  также люди, ее  населяющие.'"
      ],
      "execution_count": 0,
      "outputs": []
    },
    {
      "cell_type": "code",
      "metadata": {
        "id": "9QEkN4V7ZTRW",
        "colab_type": "code",
        "outputId": "0defb52e-d96f-4d5f-bc5c-330283ca1c94",
        "colab": {
          "base_uri": "https://localhost:8080/",
          "height": 870
        }
      },
      "source": [
        "dictionary_testset = [physical_light_dictionary, static_light_dictionary, world_light_dictionary]\n",
        "meanings = ['свет 1.1: Физическое явление', 'свет 1.2: освещенность', 'свет 2: мир']\n",
        "clusters = [0, 1, 2]\n",
        "y_real_expl, y_pred_total_expl = [], []\n",
        "\n",
        "for i in range(len(dictionary_testset)):\n",
        "  print(meanings[i])\n",
        "  sentence = dictionary_testset[i]\n",
        "  print(sentence)\n",
        "  means = vm.disambiguate('свет', normalize_pm(sentence))\n",
        "\n",
        "  collocates = vm.sense_neighbors('свет', np.argmax(means))\n",
        "  collocates = tuple(collocates)\n",
        "    #print(collocates)\n",
        "\n",
        "  try:\n",
        "    cluster = collocates_to_types[collocates]\n",
        "  except:\n",
        "    cluster = 10 #указатель на непринадлежность ни к какому классу\n",
        "    \n",
        "  print(f'predicted class: {cluster}; real class: {clusters[i]}')\n",
        "  y_real_expl.append(clusters[i])\n",
        "  y_pred_total_expl.append(cluster)\n",
        "\n",
        "  for collocate in collocates:\n",
        "    print(collocate[0])\n",
        "\n",
        "  print('\\n')\n",
        "  print('________')"
      ],
      "execution_count": 0,
      "outputs": [
        {
          "output_type": "stream",
          "text": [
            "свет 1.1: Физическое явление\n",
            "Лучистая  энергия,  делающая  окружающий мир видимым; электромагнитные  волны  в интервале  частот, воспринимаемых глазом.\n",
            "predicted class: 0; real class: 0\n",
            "луч\n",
            "световой\n",
            "рассеивать\n",
            "излучение\n",
            "спектр\n",
            "излучать\n",
            "монохроматический\n",
            "интенсивность\n",
            "радиоволна\n",
            "фотон\n",
            "\n",
            "\n",
            "________\n",
            "свет 1.2: освещенность\n",
            "Освещенность, состояние, когда светло.\n",
            "predicted class: 10; real class: 1\n",
            "лампа\n",
            "ночник\n",
            "погасить\n",
            "зажигать\n",
            "лампа\n",
            "зажигаться\n",
            "освещение\n",
            "лампочка\n",
            "дневной\n",
            "фонарь\n",
            "\n",
            "\n",
            "________\n",
            "свет 2: мир\n",
            "Земля, Вселенная, а  также люди, ее  населяющие.\n",
            "predicted class: 4; real class: 2\n",
            "сияние\n",
            "сиять\n",
            "озарять\n",
            "тьма\n",
            "луч\n",
            "истина\n",
            "светоч\n",
            "неизреченный\n",
            "вечность\n",
            "лучезарный\n",
            "\n",
            "\n",
            "________\n"
          ],
          "name": "stdout"
        }
      ]
    },
    {
      "cell_type": "markdown",
      "metadata": {
        "id": "n75-AgD5Qn1C",
        "colab_type": "text"
      },
      "source": [
        "## §5\n",
        "\n",
        "попробуем измерить метрику инструментом из коробочки - `sklearn.accuracy_score`\n",
        "\n",
        "Мы применим его к двум спискам.\n",
        "* y_pred_total - предсказание на основании неделимого набора из десятка слов, соответствующего данному значению.\n",
        "* y_pred_wordwise - предсказание на основе выбора наиболее частого слова и определения того, окружением какого значения он является.\n"
      ]
    },
    {
      "cell_type": "code",
      "metadata": {
        "id": "LMjX8ecQQvEz",
        "colab_type": "code",
        "outputId": "38820741-f0c7-44fb-96de-5c415f2150c4",
        "colab": {
          "base_uri": "https://localhost:8080/",
          "height": 34
        }
      },
      "source": [
        "accuracy_score(y_real, y_pred_total)"
      ],
      "execution_count": 0,
      "outputs": [
        {
          "output_type": "execute_result",
          "data": {
            "text/plain": [
              "0.5416666666666666"
            ]
          },
          "metadata": {
            "tags": []
          },
          "execution_count": 30
        }
      ]
    },
    {
      "cell_type": "code",
      "metadata": {
        "id": "UbQB1HOLRc8Z",
        "colab_type": "code",
        "outputId": "4f2a9652-c1ab-4bce-bec4-2e8240070580",
        "colab": {
          "base_uri": "https://localhost:8080/",
          "height": 34
        }
      },
      "source": [
        "accuracy_score(y_real, y_pred_wordwise)"
      ],
      "execution_count": 0,
      "outputs": [
        {
          "output_type": "execute_result",
          "data": {
            "text/plain": [
              "0.5416666666666666"
            ]
          },
          "metadata": {
            "tags": []
          },
          "execution_count": 31
        }
      ]
    },
    {
      "cell_type": "code",
      "metadata": {
        "id": "I_cbtkwKpg6t",
        "colab_type": "code",
        "colab": {}
      },
      "source": [
        ""
      ],
      "execution_count": 0,
      "outputs": []
    },
    {
      "cell_type": "markdown",
      "metadata": {
        "id": "7b3DjmnnRgtq",
        "colab_type": "text"
      },
      "source": [
        "Как видим, результат не очень, причем он одинаков, то есть высчитывание метрики на основе отдельных слов не помогает. \n",
        "\n",
        "Попробуем посмотреть, в чем проблема, при помощи конфьюжън матрикс"
      ]
    },
    {
      "cell_type": "code",
      "metadata": {
        "id": "3nqlBUCiRf0M",
        "colab_type": "code",
        "outputId": "0d564071-540d-4ad2-b351-e16b114ab47d",
        "colab": {
          "base_uri": "https://localhost:8080/",
          "height": 286
        }
      },
      "source": [
        "conf_matrix_1 = confusion_matrix(y_real, y_pred_total)\n",
        "conf_matrix_2 = confusion_matrix(y_real, y_pred_wordwise)\n",
        "\n",
        "sns.heatmap(conf_matrix_1)"
      ],
      "execution_count": 0,
      "outputs": [
        {
          "output_type": "execute_result",
          "data": {
            "text/plain": [
              "<matplotlib.axes._subplots.AxesSubplot at 0x7f6102070a90>"
            ]
          },
          "metadata": {
            "tags": []
          },
          "execution_count": 44
        },
        {
          "output_type": "display_data",
          "data": {
            "image/png": "[encoded data removed]",
            "text/plain": [
              "<Figure size 432x288 with 2 Axes>"
            ]
          },
          "metadata": {
            "tags": []
          }
        }
      ]
    },
    {
      "cell_type": "code",
      "metadata": {
        "id": "NGRBBwHepjKX",
        "colab_type": "code",
        "outputId": "9537f61d-f4e9-4c0a-b7ae-660cfd329048",
        "colab": {
          "base_uri": "https://localhost:8080/",
          "height": 123
        }
      },
      "source": [
        "conf_matrix_2"
      ],
      "execution_count": 0,
      "outputs": [
        {
          "output_type": "execute_result",
          "data": {
            "text/plain": [
              "array([[0, 0, 0, 0, 0, 0],\n",
              "       [1, 6, 1, 0, 0, 0],\n",
              "       [2, 0, 6, 0, 0, 0],\n",
              "       [1, 0, 0, 1, 2, 4],\n",
              "       [0, 0, 0, 0, 0, 0],\n",
              "       [0, 0, 0, 0, 0, 0]])"
            ]
          },
          "metadata": {
            "tags": []
          },
          "execution_count": 45
        }
      ]
    },
    {
      "cell_type": "code",
      "metadata": {
        "id": "F6WbsDOCSMZS",
        "colab_type": "code",
        "outputId": "0def2608-5f31-42ad-f845-13323ef83a1a",
        "colab": {
          "base_uri": "https://localhost:8080/",
          "height": 286
        }
      },
      "source": [
        "sns.heatmap(conf_matrix_2)"
      ],
      "execution_count": 0,
      "outputs": [
        {
          "output_type": "execute_result",
          "data": {
            "text/plain": [
              "<matplotlib.axes._subplots.AxesSubplot at 0x7f610216e470>"
            ]
          },
          "metadata": {
            "tags": []
          },
          "execution_count": 43
        },
        {
          "output_type": "display_data",
          "data": {
            "image/png": "[encoded data removed]",
            "text/plain": [
              "<Figure size 432x288 with 2 Axes>"
            ]
          },
          "metadata": {
            "tags": []
          }
        }
      ]
    },
    {
      "cell_type": "markdown",
      "metadata": {
        "id": "P0kln2tmSQL5",
        "colab_type": "text"
      },
      "source": [
        "Мы видим, что самые качественные предсказания у нас происходят для классов 0 и 1. С \"переносным\" значением все хуже - адаграм смешивает в нем все непрямые значения этого слова."
      ]
    }
  ]
}