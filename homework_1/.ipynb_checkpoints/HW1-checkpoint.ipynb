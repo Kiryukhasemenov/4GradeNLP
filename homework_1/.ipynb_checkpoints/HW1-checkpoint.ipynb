{
 "cells": [
  {
   "cell_type": "markdown",
   "metadata": {},
   "source": [
    "# Домашнее задание 1. Извлечение ключевых слов\n",
    "\n",
    "При выполнении домашнего задания можно пользоваться тетрадкой с семинара.\n",
    "\n",
    "### Описание задания:\n",
    "\n",
    "1. Подготовить мини-корпус (4-5 текстов или до 10 тысяч токенов) с разметкой ключевых слов.\n",
    "Желательно указать источник корпуса и описать, в каком виде там были представлены ключевые слова.\n",
    "\n",
    "2. Разметить ключевые слова самостоятельно. Оценить пересечение с имеющейся разметкой.\n",
    "\n",
    "3. Применить к этому корпусу 3 метода извлечения ключевых слов на выбор (RAKE, TextRank, tf*idf, OKAPI BM25).\n",
    "\n",
    "4. Оценить точность, полноту, F-меру выбранных методов относительно имеющейся разметки.\n",
    "\n",
    "5. Описать ошибки автоматического выделения ключевых слов (что выделяется лишнее, что не выделяется);\n",
    "предложить свои методы решения этих проблем.\n",
    "\n",
    "### Критерии оценки:\n",
    "\n",
    "По 2 балла на каждый пункт.\n",
    "\n",
    "### Формат сдачи задания:\n",
    "\n",
    "Jupyter-notebook на гитхабе (запишите адрес своего репозитория [сюда](https://forms.gle/Z4z3JsHbvM6Ghroo9))\n",
    "\n",
    "### Дедлайн: \n",
    "\n",
    "18 ноября 2019 10:00мск"
   ]
  },
  {
   "cell_type": "markdown",
   "metadata": {},
   "source": [
    "## Скачиваем нужные библиотеки"
   ]
  },
  {
   "cell_type": "code",
   "execution_count": 1,
   "metadata": {},
   "outputs": [],
   "source": [
    "import re\n",
    "import pandas as pd\n",
    "from statistics import mean \n",
    "from textdistance import levenshtein\n",
    "from nltk.tokenize import RegexpTokenizer\n",
    "#nltk.download('stopwords')\n",
    "from nltk.corpus import stopwords\n",
    "stop = stopwords.words('russian')\n",
    "from pymorphy2 import MorphAnalyzer\n",
    "morph = MorphAnalyzer()"
   ]
  },
  {
   "cell_type": "markdown",
   "metadata": {},
   "source": [
    "## Открываем тексты и ключевые слова\n"
   ]
  },
  {
   "cell_type": "code",
   "execution_count": 2,
   "metadata": {},
   "outputs": [],
   "source": [
    "file_names = ['business', 'science', 'crime', 'politics']\n",
    "keyword_file = 'keywords.txt'\n",
    "texts_dict = {}\n",
    "for f in file_names:\n",
    "    fname = f+'.txt'\n",
    "    with open(fname, 'r', encoding='utf-8') as src:\n",
    "        text = src.read()\n",
    "        texts_dict[f] = text"
   ]
  },
  {
   "cell_type": "markdown",
   "metadata": {},
   "source": [
    "#### Лемматизируем:"
   ]
  },
  {
   "cell_type": "code",
   "execution_count": 3,
   "metadata": {},
   "outputs": [],
   "source": [
    "tokenizer = RegexpTokenizer(r'\\w+')"
   ]
  },
  {
   "cell_type": "code",
   "execution_count": 4,
   "metadata": {},
   "outputs": [],
   "source": [
    "def preproc(text, stopwords, maximal=False):\n",
    "    stopwords = set(stopwords)\n",
    "    text = re.sub(r'\\n', r' ', text)\n",
    "    if maximal:\n",
    "        text = re.sub(r'[\"%0-9A-Za-z]', r'', text)\n",
    "    tokenizer = RegexpTokenizer(r'\\w+')\n",
    "    text = tokenizer.tokenize(text)\n",
    "    newtext = ''\n",
    "    for w in text:\n",
    "        if w not in stopwords: \n",
    "            lemma = morph.parse(w)[0].normal_form + ' '\n",
    "            newtext += lemma\n",
    "    return newtext"
   ]
  },
  {
   "cell_type": "code",
   "execution_count": 5,
   "metadata": {},
   "outputs": [],
   "source": [
    "preproc_texts_dict = {}\n",
    "for t in texts_dict.keys():\n",
    "    lemmatized = preproc(texts_dict[t], stop, maximal=False)\n",
    "    preproc_texts_dict[t] = lemmatized"
   ]
  },
  {
   "cell_type": "markdown",
   "metadata": {},
   "source": [
    "### И ключевые слова"
   ]
  },
  {
   "cell_type": "code",
   "execution_count": 6,
   "metadata": {},
   "outputs": [],
   "source": [
    "keywords_dict = {}\n",
    "keywords_lemmas_dict = {}\n",
    "with open(keyword_file, 'r', encoding='utf-8') as src:\n",
    "    kws = src.read()\n",
    "    kws = kws.split('\\n')\n",
    "    for line in kws:\n",
    "        text, keywords = (a for a in line.split(': '))\n",
    "        keywords = keywords.split(', ')\n",
    "        keywords_dict[text] = keywords\n",
    "        kw_lemmas = []\n",
    "        for kw in keywords:\n",
    "            #kw = kw.split(' ')\n",
    "            #for k_w in kw:\n",
    "            lemmas = preproc(kw, stopwords=stop)\n",
    "            kw_lemmas.append(lemmas[:-1])\n",
    "        keywords_lemmas_dict[text] = kw_lemmas"
   ]
  },
  {
   "cell_type": "code",
   "execution_count": 7,
   "metadata": {},
   "outputs": [
    {
     "data": {
      "text/plain": [
       "{'politics': ['боливия',\n",
       "  'государственный переворот',\n",
       "  'эво моралеса',\n",
       "  'протест',\n",
       "  'выбор',\n",
       "  'политический убежище'],\n",
       " 'crime': ['московский дело',\n",
       "  'никита чирец',\n",
       "  'массовый беспорядок',\n",
       "  'выбор мосгордума',\n",
       "  'суд'],\n",
       " 'business': ['четырехдневный рабочий неделя',\n",
       "  'япония',\n",
       "  'microsoft',\n",
       "  'продуктивность'],\n",
       " 'science': ['кот',\n",
       "  'собака',\n",
       "  'эмоция',\n",
       "  'поведение',\n",
       "  'человек',\n",
       "  'дистанция',\n",
       "  'язык телодвижение']}"
      ]
     },
     "execution_count": 7,
     "metadata": {},
     "output_type": "execute_result"
    }
   ],
   "source": [
    "keywords_lemmas_dict"
   ]
  },
  {
   "cell_type": "code",
   "execution_count": 8,
   "metadata": {},
   "outputs": [
    {
     "data": {
      "text/plain": [
       "{'politics': ['Боливия',\n",
       "  'государственный переворот',\n",
       "  'Эво Моралес',\n",
       "  'протесты',\n",
       "  'выборы',\n",
       "  'политическое убежище'],\n",
       " 'crime': ['московское дело',\n",
       "  'Никита Чирцов',\n",
       "  'массовые беспорядки',\n",
       "  'выборы в Мосгордуму',\n",
       "  'суд'],\n",
       " 'business': ['четырехдневная рабочая неделя',\n",
       "  'Япония',\n",
       "  'Microsoft',\n",
       "  'продуктивность'],\n",
       " 'science': ['кот',\n",
       "  'собака',\n",
       "  'эмоция',\n",
       "  'поведение',\n",
       "  'человек',\n",
       "  'дистанция',\n",
       "  'язык телодвижений']}"
      ]
     },
     "execution_count": 8,
     "metadata": {},
     "output_type": "execute_result"
    }
   ],
   "source": [
    "keywords_dict"
   ]
  },
  {
   "cell_type": "markdown",
   "metadata": {},
   "source": [
    "## Поиск ключевых слов в тексте\n",
    "\n",
    "Делаем \"тупой\" поиск по подстрокам. Считаем, сколько получилось вхождений ключевых слов в каждом тексте."
   ]
  },
  {
   "cell_type": "code",
   "execution_count": 9,
   "metadata": {},
   "outputs": [],
   "source": [
    "def kw_brute_search(keywords, corpus):\n",
    "    for name in keywords.keys():\n",
    "        print(name)\n",
    "        text = corpus[name]\n",
    "        kws = keywords[name]\n",
    "        for kw in kws:\n",
    "            kw_occs = text.count(kw)\n",
    "            print(f'{kw} - {kw_occs}')\n",
    "        print('-----------------')\n",
    "    return 'done'"
   ]
  },
  {
   "cell_type": "markdown",
   "metadata": {},
   "source": [
    "#### не-лемматизированные тексты"
   ]
  },
  {
   "cell_type": "code",
   "execution_count": 10,
   "metadata": {},
   "outputs": [
    {
     "name": "stdout",
     "output_type": "stream",
     "text": [
      "politics\n",
      "Боливия - 2\n",
      "государственный переворот - 1\n",
      "Эво Моралес - 3\n",
      "протесты - 1\n",
      "выборы - 4\n",
      "политическое убежище - 2\n",
      "-----------------\n",
      "crime\n",
      "московское дело - 0\n",
      "Никита Чирцов - 0\n",
      "массовые беспорядки - 0\n",
      "выборы в Мосгордуму - 0\n",
      "суд - 21\n",
      "-----------------\n",
      "business\n",
      "четырехдневная рабочая неделя - 0\n",
      "Япония - 0\n",
      "Microsoft - 5\n",
      "продуктивность - 1\n",
      "-----------------\n",
      "science\n",
      "кот - 31\n",
      "собака - 6\n",
      "эмоция - 0\n",
      "поведение - 2\n",
      "человек - 8\n",
      "дистанция - 0\n",
      "язык телодвижений - 0\n",
      "-----------------\n"
     ]
    },
    {
     "data": {
      "text/plain": [
       "'done'"
      ]
     },
     "execution_count": 10,
     "metadata": {},
     "output_type": "execute_result"
    }
   ],
   "source": [
    "kw_brute_search(keywords_dict, texts_dict)"
   ]
  },
  {
   "cell_type": "markdown",
   "metadata": {},
   "source": [
    "не очень...\n",
    "\n",
    "#### лемматизированные тексты"
   ]
  },
  {
   "cell_type": "code",
   "execution_count": 11,
   "metadata": {},
   "outputs": [
    {
     "name": "stdout",
     "output_type": "stream",
     "text": [
      "politics\n",
      "боливия - 24\n",
      "государственный переворот - 4\n",
      "эво моралеса - 3\n",
      "протест - 7\n",
      "выбор - 13\n",
      "политический убежище - 3\n",
      "-----------------\n",
      "crime\n",
      "московский дело - 2\n",
      "никита чирец - 0\n",
      "массовый беспорядок - 1\n",
      "выбор мосгордума - 0\n",
      "суд - 23\n",
      "-----------------\n",
      "business\n",
      "четырехдневный рабочий неделя - 1\n",
      "япония - 1\n",
      "microsoft - 5\n",
      "продуктивность - 1\n",
      "-----------------\n",
      "science\n",
      "кот - 32\n",
      "собака - 21\n",
      "эмоция - 1\n",
      "поведение - 4\n",
      "человек - 15\n",
      "дистанция - 1\n",
      "язык телодвижение - 4\n",
      "-----------------\n"
     ]
    },
    {
     "data": {
      "text/plain": [
       "'done'"
      ]
     },
     "execution_count": 11,
     "metadata": {},
     "output_type": "execute_result"
    }
   ],
   "source": [
    "kw_brute_search(keywords_lemmas_dict, preproc_texts_dict)"
   ]
  },
  {
   "cell_type": "markdown",
   "metadata": {},
   "source": [
    "Очень неплохо! Особенно когда идет поиск по изолированным ключевым словам.\n",
    "\n",
    "\n",
    "## Rake"
   ]
  },
  {
   "cell_type": "code",
   "execution_count": 12,
   "metadata": {},
   "outputs": [],
   "source": [
    "import RAKE"
   ]
  },
  {
   "cell_type": "code",
   "execution_count": 13,
   "metadata": {},
   "outputs": [],
   "source": [
    "rake = RAKE.Rake(stop)"
   ]
  },
  {
   "cell_type": "markdown",
   "metadata": {},
   "source": [
    "### Нелемматизированные тексты"
   ]
  },
  {
   "cell_type": "code",
   "execution_count": 14,
   "metadata": {},
   "outputs": [
    {
     "name": "stdout",
     "output_type": "stream",
     "text": [
      "business:\n",
      "('месяц', 1.6666666666666667)\n",
      "('говорится', 1.0)\n",
      "('проведенного', 1.0)\n",
      "-----------\n",
      "science:\n",
      "('большей части общаются', 9.0)\n",
      "('языке телодвижений', 4.5)\n",
      "('подчеркивает витале', 4.5)\n",
      "('говорит хистэнд', 4.25)\n",
      "('своим предкам', 4.0)\n",
      "('говорит', 2.0)\n",
      "('это', 1.8888888888888888)\n",
      "('кошки', 1.6875)\n",
      "('просто', 1.5)\n",
      "('хозяина', 1.3333333333333333)\n",
      "('собаки', 1.3)\n",
      "('собаками', 1.0)\n",
      "('понимаем', 1.0)\n",
      "('чувствуют', 1.0)\n",
      "('судить', 1.0)\n",
      "-----------\n",
      "crime:\n",
      "('область грудной клетки', 8.666666666666666)\n",
      "('снимается вопрос', 3.75)\n",
      "('суда', 2.0)\n",
      "('сизо', 1.6666666666666667)\n",
      "('из-', 1.3333333333333333)\n",
      "('аквариума', 1.0)\n",
      "('побежал', 1.0)\n",
      "-----------\n",
      "politics:\n",
      "('би-би-си', 9.0)\n",
      "('тех пор', 4.0)\n",
      "('это', 2.0)\n",
      "('боливии', 2.0)\n",
      "('стране', 1.75)\n",
      "('отставку', 1.6666666666666667)\n",
      "('пока', 1.6666666666666667)\n",
      "('заявил', 1.6666666666666667)\n",
      "('моралес', 1.5714285714285714)\n",
      "('однако', 1.3333333333333333)\n",
      "('отставке', 1.0)\n",
      "('уйти', 1.0)\n",
      "('призвали', 1.0)\n",
      "('беседе', 1.0)\n",
      "('бразилии', 1.0)\n",
      "-----------\n"
     ]
    }
   ],
   "source": [
    "kw_pred_dict = {}\n",
    "for text in texts_dict.keys():\n",
    "    print(text+':')\n",
    "    rake_kw_list = rake.run(texts_dict[text], maxWords=3, minFrequency=2)\n",
    "    kw_list = []\n",
    "    for kw in rake_kw_list[:15]:\n",
    "        print(kw)\n",
    "        kw_list.append(kw[0])\n",
    "    kw_pred_dict[text] = kw_list\n",
    "    print('-----------')"
   ]
  },
  {
   "cell_type": "markdown",
   "metadata": {},
   "source": [
    "## Метрика оценки:\n",
    "* учитывая, что у русского языка развитая морфология, искать соответствие просто по словам неправильно. Моя идея - сравнивать каждое найденное ключевое слово по нормированному расстоянию Левенштейна с реальными ключевыми словами. \n",
    "* учитывая, что в нашей задаче отсутствует как таковая категория True Negative, которая необходима для традиционного вычисления метрик precision, accuracy и recall, мы будем высчитывать метрики так:\n",
    "    * Accuracy = True Positive / (True Positive + False Negative + False Positive + 1)\n",
    "    * Precision = True Positive / (True Positive + False Positive + 1)\n",
    "    * Recall = True Positive / (True Positive + False Negative + 1)\n",
    ", где 1 запрещает деление на ноль."
   ]
  },
  {
   "cell_type": "code",
   "execution_count": 15,
   "metadata": {},
   "outputs": [],
   "source": [
    "def evaluation(y, pred, threshold=0.7):\n",
    "    \n",
    "    tp, fp, fn = 0, 0, 0\n",
    "    \n",
    "    kw_y_used = set()\n",
    "    for kw_pred in pred:\n",
    "        likelihood_list = sorted([(levenshtein.normalized_similarity(kw_pred, y[i]), y[i]) for i in range(len(y))])\n",
    "        likeliest_score, likeliest = likelihood_list[-1]\n",
    "\n",
    "        if likeliest_score > threshold:\n",
    "            tp += 1\n",
    "            kw_y_used.add(likeliest)\n",
    "        else:\n",
    "            fp += 1\n",
    "    for y_kw in y:\n",
    "        if y_kw not in kw_y_used:\n",
    "            fn += 1\n",
    "    \n",
    "    accuracy = tp / (tp + fn + fp + 1)\n",
    "    precision = tp / (tp + fp + 1)\n",
    "    recall = tp / (tp + fn + 1)\n",
    "    f1 = (2 * precision * recall) / (precision + recall + 1)\n",
    "\n",
    "    return precision, accuracy, f1 "
   ]
  },
  {
   "cell_type": "code",
   "execution_count": 16,
   "metadata": {},
   "outputs": [],
   "source": [
    "def mean_metrics(y, pred, threshold=0.7):\n",
    "    aver_prec, aver_acc, aver_f1 = [], [], []\n",
    "    for text_name in y.keys():\n",
    "        precision, accuracy, f1 = evaluation(y[text_name], pred[text_name], threshold=threshold)\n",
    "        aver_prec.append(precision)\n",
    "        aver_acc.append(accuracy)\n",
    "        aver_f1.append(f1)\n",
    "    aver_prec = mean(aver_prec)\n",
    "    aver_acc = mean(aver_acc)\n",
    "    aver_f1 = mean(aver_f1)\n",
    "    return aver_prec, aver_acc, aver_f1"
   ]
  },
  {
   "cell_type": "code",
   "execution_count": 18,
   "metadata": {},
   "outputs": [
    {
     "data": {
      "image/png": "[encoded data removed]",
      "text/plain": [
       "<Figure size 432x288 with 1 Axes>"
      ]
     },
     "metadata": {
      "needs_background": "light"
     },
     "output_type": "display_data"
    }
   ],
   "source": [
    "import matplotlib.pyplot as plt\n",
    "\n",
    "thresholds = [0., 0.1, 0.2, 0.3, 0.4, 0.5, 0.6, 0.7, 0.8, 0.9, 1.]\n",
    "precs = []\n",
    "accs = []\n",
    "f1s = []\n",
    "\n",
    "for el in thresholds:\n",
    "    prec, acc, f1 = mean_metrics(kw_pred_dict, keywords_dict, threshold=el)\n",
    "    precs.append(prec)\n",
    "    accs.append(acc)\n",
    "    f1s.append(f1)\n",
    "\n",
    "plt.plot(thresholds, precs)\n",
    "plt.plot(thresholds, accs)\n",
    "plt.plot(thresholds, f1s)\n",
    "plt.legend(['Precision', 'Accuracy', 'F1-score'])\n",
    "plt.xlabel('Уровень отсечения (нормированный Левенштейн)')\n",
    "plt.ylabel('Значение метрик')\n",
    "plt.show()"
   ]
  },
  {
   "cell_type": "markdown",
   "metadata": {},
   "source": [
    "### Лемматизированные тексты\n",
    "\n",
    "для этого вначале запрепроцессим тексты без стоп-слов. Иначе RAKE не будет работать."
   ]
  },
  {
   "cell_type": "code",
   "execution_count": 19,
   "metadata": {},
   "outputs": [],
   "source": [
    "def preproc_rake(text, maximal=False):\n",
    "    text = re.sub(r'\\n', r' ', text)\n",
    "    if maximal:\n",
    "        text = re.sub(r'[\"%0-9A-Za-z]', r'', text)\n",
    "    tokenizer = RegexpTokenizer(r'\\w+')\n",
    "    text = tokenizer.tokenize(text)\n",
    "    newtext = ''\n",
    "    for w in text:\n",
    "        lemma = morph.parse(w)[0].normal_form + ' '\n",
    "        newtext += lemma\n",
    "    return newtext"
   ]
  },
  {
   "cell_type": "code",
   "execution_count": 20,
   "metadata": {},
   "outputs": [],
   "source": [
    "rake_preproc_texts_dict = {}\n",
    "for t in texts_dict.keys():\n",
    "    lemmatized = preproc_rake(texts_dict[t], maximal=False)\n",
    "    rake_preproc_texts_dict[t] = lemmatized"
   ]
  },
  {
   "cell_type": "code",
   "execution_count": 21,
   "metadata": {},
   "outputs": [
    {
     "name": "stdout",
     "output_type": "stream",
     "text": [
      "business:\n",
      "______________\n",
      "science:\n",
      "('смысл совместный эволюция', 9.0)\n",
      "('явно нравиться компания', 9.0)\n",
      "('это обязательно вино', 9.0)\n",
      "('оставить покой', 4.0)\n",
      "('грамм правда', 4.0)\n",
      "('вести собака', 4.0)\n",
      "('навязчивый внимание', 4.0)\n",
      "('2007 год поехать', 4.0)\n",
      "('показывать рад', 4.0)\n",
      "('свой манер', 4.0)\n",
      "('порядок', 1.0)\n",
      "______________\n",
      "crime:\n",
      "('встретить сергей абаничев', 9.0)\n",
      "('вопрос примирение рассматривать', 9.0)\n",
      "('сотрудник полиция предложение', 9.0)\n",
      "('обсуждать процедура', 4.0)\n",
      "('часы', 1.0)\n",
      "______________\n",
      "politics:\n",
      "('посольство остаться родина', 9.0)\n",
      "('россия сотрудничать моралесом', 9.0)\n",
      "('сменить моралеса', 4.0)\n",
      "('пора пока', 4.0)\n",
      "('реакция', 1.0)\n",
      "('надеяться', 1.0)\n",
      "______________\n"
     ]
    }
   ],
   "source": [
    "kw_pred_dict = {}\n",
    "\n",
    "for text in texts_dict.keys():\n",
    "    print(text+':')\n",
    "    rake_kw_list = rake.run(preproc_texts_dict[text], maxWords=3, minFrequency=1)\n",
    "    kw_list = []\n",
    "    for kw in rake_kw_list[:15]:\n",
    "        print(kw)\n",
    "        kw_list.append(kw[0])\n",
    "    kw_pred_dict[text] = kw_list\n",
    "    print('______________')"
   ]
  },
  {
   "cell_type": "code",
   "execution_count": 22,
   "metadata": {},
   "outputs": [
    {
     "data": {
      "image/png": "[encoded data removed]",
      "text/plain": [
       "<Figure size 432x288 with 1 Axes>"
      ]
     },
     "metadata": {
      "needs_background": "light"
     },
     "output_type": "display_data"
    }
   ],
   "source": [
    "thresholds = [0., 0.1, 0.2, 0.3, 0.4, 0.5, 0.6, 0.7, 0.8, 0.9, 1.]\n",
    "precs = []\n",
    "accs = []\n",
    "f1s = []\n",
    "\n",
    "for el in thresholds:\n",
    "    prec, acc, f1 = mean_metrics(keywords_lemmas_dict, kw_pred_dict, threshold=el)\n",
    "    precs.append(prec)\n",
    "    accs.append(acc)\n",
    "    f1s.append(f1)\n",
    "\n",
    "plt.plot(thresholds, precs)\n",
    "plt.plot(thresholds, accs)\n",
    "plt.plot(thresholds, f1s)\n",
    "plt.legend(['Precision', 'Accuracy', 'F1-score'])\n",
    "plt.xlabel('Уровень отсечения (нормированный Левенштейн)')\n",
    "plt.ylabel('Значение метрик')\n",
    "plt.show()"
   ]
  },
  {
   "cell_type": "markdown",
   "metadata": {},
   "source": [
    "## TextRank"
   ]
  },
  {
   "cell_type": "code",
   "execution_count": 23,
   "metadata": {},
   "outputs": [],
   "source": [
    "from gensim.summarization import keywords as kw"
   ]
  },
  {
   "cell_type": "markdown",
   "metadata": {},
   "source": [
    "#### Нелемматизированные тексты"
   ]
  },
  {
   "cell_type": "code",
   "execution_count": 24,
   "metadata": {},
   "outputs": [
    {
     "name": "stdout",
     "output_type": "stream",
     "text": [
      "business:\n",
      "что\t0.24671478520666948\n",
      "microsoft\t0.18203806208017062\n",
      "это\t0.18095830990163594\n",
      "компании\t0.16851884133616327\n",
      "сотрудники\t0.14718268167618745\n",
      "как\t0.11745256717674206\n",
      "сотрудникам\t0.10808285749458095\n",
      "существует\t0.1002607957146042\n",
      "года\t0.09567784394788778\n",
      "страны работают\t0.08750775137850719\n",
      "четырехдневнои\t0.08537155766586106\n",
      "наоборот\t0.08515591391750094\n",
      "министерству\t0.08515591391750034\n",
      "количество\t0.08515591391750002\n",
      "кроме\t0.08515591391749996\n",
      "_________________\n",
      "\n",
      "\n",
      "science:\n",
      "это\t0.22352529579556685\n",
      "или\t0.20290370212087466\n",
      "кошки живут\t0.15985075564271964\n",
      "кажется что\t0.159651770438366\n",
      "когда они\t0.15859588327865748\n",
      "собаки\t0.12299706095732335\n",
      "вас\t0.11730665189698175\n",
      "есть\t0.10039179152418759\n",
      "она\t0.09950847283981581\n",
      "как животное его\t0.09753802514710969\n",
      "только\t0.09460823883672724\n",
      "так\t0.09400131568325777\n",
      "говорит\t0.09034008320299597\n",
      "телодвижении кошек\t0.08880966582184606\n",
      "животных\t0.08835034983846037\n",
      "_________________\n",
      "\n",
      "\n",
      "crime:\n",
      "что\t0.24033425994955157\n",
      "чирцова\t0.23406989086977278\n",
      "как\t0.20166717604924803\n",
      "суд\t0.1822855257469639\n",
      "его обвиняют\t0.18022369420542086\n",
      "адвокат\t0.14804763439702334\n",
      "чирцов\t0.13634760896113007\n",
      "михаленок\t0.13235603505491625\n",
      "судья\t0.12154340754065034\n",
      "суда\t0.09279093046928802\n",
      "так\t0.08426144756878781\n",
      "плакат\t0.08390588663583677\n",
      "также\t0.08315686753044778\n",
      "это\t0.08293326800289741\n",
      "для\t0.08267867130003478\n",
      "_________________\n",
      "\n",
      "\n",
      "politics:\n",
      "что\t0.30352352594058046\n",
      "моралеса\t0.29999420900459467\n",
      "боливии\t0.2729166048711863\n",
      "моралес\t0.1955941946956806\n",
      "или\t0.12618122248406138\n",
      "президент\t0.12039520081916026\n",
      "как\t0.1180570427070036\n",
      "это\t0.09403722318182339\n",
      "страны\t0.08672984666233864\n",
      "пост президента\t0.08383987897522135\n",
      "выборов\t0.08283090006828885\n",
      "выборы\t0.0744481344314534\n",
      "его\t0.0689405021854024\n",
      "этом заявил министр\t0.06835333232784334\n",
      "года\t0.0664828867537891\n",
      "_________________\n",
      "\n",
      "\n"
     ]
    }
   ],
   "source": [
    "from gensim.summarization import keywords as kw\n",
    "\n",
    "kw_pred_dict = {}\n",
    "\n",
    "for text in texts_dict.keys():\n",
    "    print(text+':')\n",
    "    text_rank = kw(texts_dict[text], pos_filter=[], scores=True)\n",
    "    kw_list = []\n",
    "    for k_w in text_rank[:15]:\n",
    "        print(f'{k_w[0]}\\t{k_w[1]}')\n",
    "        kw_list.append(k_w[0])\n",
    "    print('_________________\\n\\n')\n",
    "    kw_pred_dict[text] = kw_list"
   ]
  },
  {
   "cell_type": "code",
   "execution_count": 25,
   "metadata": {},
   "outputs": [
    {
     "data": {
      "image/png": "[encoded data removed]",
      "text/plain": [
       "<Figure size 432x288 with 1 Axes>"
      ]
     },
     "metadata": {
      "needs_background": "light"
     },
     "output_type": "display_data"
    }
   ],
   "source": [
    "thresholds = [0., 0.1, 0.2, 0.3, 0.4, 0.5, 0.6, 0.7, 0.8, 0.9, 1.]\n",
    "precs = []\n",
    "accs = []\n",
    "f1s = []\n",
    "\n",
    "for el in thresholds:\n",
    "    prec, acc, f1 = mean_metrics(keywords_dict, kw_pred_dict, threshold=el)\n",
    "    precs.append(prec)\n",
    "    accs.append(acc)\n",
    "    f1s.append(f1)\n",
    "\n",
    "plt.plot(thresholds, precs)\n",
    "plt.plot(thresholds, accs)\n",
    "plt.plot(thresholds, f1s)\n",
    "plt.legend(['Precision', 'Accuracy', 'F1-score'])\n",
    "plt.xlabel('Уровень отсечения (нормированный Левенштейн)')\n",
    "plt.ylabel('Значение метрик')\n",
    "plt.show()"
   ]
  },
  {
   "cell_type": "markdown",
   "metadata": {},
   "source": [
    "#### Лемматизированные тексты"
   ]
  },
  {
   "cell_type": "code",
   "execution_count": 26,
   "metadata": {},
   "outputs": [
    {
     "name": "stdout",
     "output_type": "stream",
     "text": [
      "business:\n",
      "японскии\t0.16777632661582717\n",
      "это\t0.16552304378760005\n",
      "microsoft\t0.16193307017117925\n",
      "рабочии день\t0.15634711162808895\n",
      "сотрудник месяц работать пятница как\t0.15094876115054442\n",
      "компания\t0.14817323698433046\n",
      "год существовать\t0.1390905906434235\n",
      "дополнительныи\t0.11914303424608595\n",
      "выходнои\t0.11639505900456201\n",
      "результат\t0.11582986390210391\n",
      "неделя\t0.1013596149476318\n",
      "время сказать\t0.10083619594301817\n",
      "ход\t0.09551008135069966\n",
      "которыи\t0.09540672182327117\n",
      "введение\t0.09523252312018783\n",
      "_________________\n",
      "\n",
      "\n",
      "science:\n",
      "кошка гораздо\t0.3078761992009197\n",
      "собака\t0.25204747576036024\n",
      "это\t0.21135629835208702\n",
      "которыи\t0.1839517278558074\n",
      "свои\t0.16662082658857974\n",
      "жить человек\t0.14877784892754697\n",
      "хозяин\t0.12632995459065632\n",
      "кошачии\t0.07890713849992231\n",
      "кот общение\t0.07713221607089198\n",
      "считаться один\t0.0769178387289707\n",
      "место\t0.06717539969591821\n",
      "животное частично\t0.0660550327465352\n",
      "очень\t0.06531520407720894\n",
      "имидж\t0.06468919699153863\n",
      "дать исследование\t0.06425529736440069\n",
      "_________________\n",
      "\n",
      "\n",
      "crime:\n",
      "чирцовыи\t0.23061942545785832\n",
      "суд начать\t0.19691685874829407\n",
      "адвокат\t0.16105088537228088\n",
      "которыи\t0.1411951910775328\n",
      "чирец\t0.1278526312461434\n",
      "полицеискии\t0.1230832076235655\n",
      "михаленка\t0.12184351065308122\n",
      "задержать\t0.12130461214262314\n",
      "человек\t0.10551998491463815\n",
      "судья\t0.10457063834743788\n",
      "июль причинить боль\t0.10138017176755539\n",
      "плакат\t0.1008923177542443\n",
      "задерживать\t0.09770621643127954\n",
      "москва\t0.09498117373366553\n",
      "дело\t0.09189704414000703\n",
      "_________________\n",
      "\n",
      "\n",
      "politics:\n",
      "моралеса\t0.4516324950170297\n",
      "президент боливия\t0.27259966805757735\n",
      "выбор\t0.14644991166928725\n",
      "протест страна\t0.14553677401898613\n",
      "свои\t0.13427451313066355\n",
      "год\t0.11498073583675535\n",
      "призвать\t0.11032201278471092\n",
      "отставка\t0.1094302213906069\n",
      "заявить министр\t0.10391162317143646\n",
      "которыи\t0.080916184705034\n",
      "россия\t0.07297368986145208\n",
      "политическии убежище мексика власть\t0.0705684462776576\n",
      "стать\t0.06781006673116806\n",
      "уити\t0.06639802414076926\n",
      "однако\t0.06458124749851218\n",
      "_________________\n",
      "\n",
      "\n"
     ]
    }
   ],
   "source": [
    "kw_pred_dict = {}\n",
    "\n",
    "for text in texts_dict.keys():\n",
    "    print(text+':')\n",
    "    text_rank = kw(preproc_texts_dict[text], pos_filter=[], scores=True)\n",
    "    kw_list = []\n",
    "    for k_w in text_rank[:15]:\n",
    "        print(f'{k_w[0]}\\t{k_w[1]}')\n",
    "        kw_list.append(k_w[0])\n",
    "    kw_pred_dict[text] = kw_list\n",
    "    print('_________________\\n\\n')"
   ]
  },
  {
   "cell_type": "code",
   "execution_count": 27,
   "metadata": {},
   "outputs": [
    {
     "data": {
      "image/png": "[encoded data removed]",
      "text/plain": [
       "<Figure size 432x288 with 1 Axes>"
      ]
     },
     "metadata": {
      "needs_background": "light"
     },
     "output_type": "display_data"
    }
   ],
   "source": [
    "thresholds = [0., 0.1, 0.2, 0.3, 0.4, 0.5, 0.6, 0.7, 0.8, 0.9, 1.]\n",
    "precs = []\n",
    "accs = []\n",
    "f1s = []\n",
    "\n",
    "for el in thresholds:\n",
    "    prec, acc, f1 = mean_metrics(keywords_lemmas_dict, kw_pred_dict, threshold=el)\n",
    "    precs.append(prec)\n",
    "    accs.append(acc)\n",
    "    f1s.append(f1)\n",
    "\n",
    "plt.plot(thresholds, precs)\n",
    "plt.plot(thresholds, accs)\n",
    "plt.plot(thresholds, f1s)\n",
    "plt.legend(['Precision', 'Accuracy', 'F1-score'])\n",
    "plt.xlabel('Уровень отсечения (нормированный Левенштейн)')\n",
    "plt.ylabel('Значение метрик')\n",
    "plt.show()"
   ]
  },
  {
   "cell_type": "markdown",
   "metadata": {},
   "source": [
    "## Tf-Idf\n",
    "\n",
    "\n",
    "#### Нелемматизированные тексты"
   ]
  },
  {
   "cell_type": "code",
   "execution_count": 28,
   "metadata": {},
   "outputs": [],
   "source": [
    "from sklearn.feature_extraction.text import CountVectorizer\n",
    "from sklearn.feature_extraction.text import TfidfTransformer"
   ]
  },
  {
   "cell_type": "code",
   "execution_count": 29,
   "metadata": {},
   "outputs": [],
   "source": [
    "corpus = list(texts_dict.values())"
   ]
  },
  {
   "cell_type": "code",
   "execution_count": 30,
   "metadata": {},
   "outputs": [],
   "source": [
    "cv=CountVectorizer(max_features=10000) #stop_words=stopwords,\n",
    "word_count_vector=cv.fit_transform(corpus)\n",
    "\n",
    "tfidf_transformer=TfidfTransformer(smooth_idf=True,use_idf=True)\n",
    "tf_idf_vector=tfidf_transformer.fit_transform(word_count_vector)\n",
    "\n",
    "df = pd.DataFrame(tf_idf_vector.toarray(), columns=cv.get_feature_names(), index=texts_dict.keys())\n",
    "\n",
    "stop = set(stop)\n",
    "words = set(df.columns)\n",
    "\n",
    "stop_words = stop.intersection(words)\n",
    "for w in stop_words:\n",
    "    df = df.drop([w], axis=1)\n",
    "df = df.T"
   ]
  },
  {
   "cell_type": "code",
   "execution_count": 31,
   "metadata": {},
   "outputs": [
    {
     "name": "stdout",
     "output_type": "stream",
     "text": [
      "business\n",
      "microsoft      0.233574\n",
      "компании       0.186859\n",
      "месяц          0.140144\n",
      "недели         0.140144\n",
      "рабочей        0.140144\n",
      "сотрудникам    0.140144\n",
      "сотрудники     0.110491\n",
      "это            0.097511\n",
      "2019           0.093430\n",
      "выводу         0.093430\n",
      "выходные       0.093430\n",
      "говорится      0.093430\n",
      "дней           0.093430\n",
      "заявлении      0.093430\n",
      "корпорации     0.093430\n",
      "Name: business, dtype: float64\n",
      "___________\n",
      "science\n",
      "кошки       0.320517\n",
      "собаки      0.185562\n",
      "кошек       0.168693\n",
      "это         0.123243\n",
      "животных    0.084346\n",
      "кот         0.084346\n",
      "кошка       0.084346\n",
      "просто      0.084346\n",
      "говорит     0.079800\n",
      "нам         0.079800\n",
      "витале      0.067477\n",
      "гораздо     0.067477\n",
      "коты        0.067477\n",
      "очень       0.067477\n",
      "понять      0.067477\n",
      "Name: science, dtype: float64\n",
      "___________\n",
      "crime\n",
      "чирцова      0.293059\n",
      "суд          0.161736\n",
      "адвокат      0.146529\n",
      "суда         0.146529\n",
      "27           0.117223\n",
      "июля         0.117223\n",
      "михаленок    0.117223\n",
      "полиции      0.117223\n",
      "судья        0.117223\n",
      "чирцов       0.117223\n",
      "вопрос       0.092420\n",
      "боли         0.087918\n",
      "боль         0.087918\n",
      "задержали    0.087918\n",
      "клетки       0.087918\n",
      "Name: crime, dtype: float64\n",
      "___________\n",
      "politics\n",
      "боливии       0.383843\n",
      "моралеса      0.365565\n",
      "моралес       0.237617\n",
      "заявил        0.129697\n",
      "президента    0.127948\n",
      "президент     0.115286\n",
      "выборов       0.109670\n",
      "отставку      0.109670\n",
      "выборы        0.091391\n",
      "призвал       0.091391\n",
      "стране        0.091391\n",
      "би            0.073113\n",
      "однако        0.073113\n",
      "переворот     0.073113\n",
      "пост          0.073113\n",
      "Name: politics, dtype: float64\n",
      "___________\n"
     ]
    }
   ],
   "source": [
    "col_names = list(df.columns)\n",
    "\n",
    "kw_pred_dict = {}\n",
    "\n",
    "for col in col_names:\n",
    "    kws = df.nlargest(15, col)\n",
    "    kws = kws[col]\n",
    "    print(col)\n",
    "    print(kws)\n",
    "    kw_pred_dict[col] = list(kws.index)\n",
    "    print('___________')\n"
   ]
  },
  {
   "cell_type": "code",
   "execution_count": 32,
   "metadata": {},
   "outputs": [
    {
     "data": {
      "image/png": "[encoded data removed]",
      "text/plain": [
       "<Figure size 432x288 with 1 Axes>"
      ]
     },
     "metadata": {
      "needs_background": "light"
     },
     "output_type": "display_data"
    }
   ],
   "source": [
    "thresholds = [0., 0.1, 0.2, 0.3, 0.4, 0.5, 0.6, 0.7, 0.8, 0.9, 1.]\n",
    "precs = []\n",
    "accs = []\n",
    "f1s = []\n",
    "\n",
    "for el in thresholds:\n",
    "    prec, acc, f1 = mean_metrics(keywords_lemmas_dict, kw_pred_dict, threshold=el)\n",
    "    precs.append(prec)\n",
    "    accs.append(acc)\n",
    "    f1s.append(f1)\n",
    "\n",
    "plt.plot(thresholds, precs)\n",
    "plt.plot(thresholds, accs)\n",
    "plt.plot(thresholds, f1s)\n",
    "plt.legend(['Precision', 'Accuracy', 'F1-score'])\n",
    "plt.xlabel('Уровень отсечения (нормированный Левенштейн)')\n",
    "plt.ylabel('Значение метрик')\n",
    "plt.show()"
   ]
  },
  {
   "cell_type": "markdown",
   "metadata": {},
   "source": [
    "#### Лемматизированные тексты"
   ]
  },
  {
   "cell_type": "code",
   "execution_count": 33,
   "metadata": {},
   "outputs": [],
   "source": [
    "corpus = list(preproc_texts_dict.values())\n",
    "\n",
    "cv=CountVectorizer(max_features=10000) #stop_words=stopwords,\n",
    "word_count_vector=cv.fit_transform(corpus)\n",
    "\n",
    "tfidf_transformer=TfidfTransformer(smooth_idf=True,use_idf=True)\n",
    "tf_idf_vector=tfidf_transformer.fit_transform(word_count_vector)\n",
    "\n",
    "df = pd.DataFrame(tf_idf_vector.toarray(), columns=cv.get_feature_names(), index=texts_dict.keys())\n",
    "\n",
    "stop = set(stop)\n",
    "words = set(df.columns)\n",
    "\n",
    "stop_words = stop.intersection(words)\n",
    "for w in stop_words:\n",
    "    df = df.drop([w], axis=1)\n",
    "\n",
    "df = df.T"
   ]
  },
  {
   "cell_type": "code",
   "execution_count": 34,
   "metadata": {},
   "outputs": [
    {
     "name": "stdout",
     "output_type": "stream",
     "text": [
      "business\n",
      "рабочий           0.364951\n",
      "сотрудник         0.323698\n",
      "microsoft         0.228094\n",
      "японский          0.228094\n",
      "компания          0.179832\n",
      "неделя            0.143866\n",
      "работать          0.143866\n",
      "выходной          0.136856\n",
      "дополнительный    0.136856\n",
      "год               0.119029\n",
      "день              0.107899\n",
      "месяц             0.107899\n",
      "результат         0.107899\n",
      "это               0.095223\n",
      "2019              0.091238\n",
      "Name: business, dtype: float64\n",
      "___________\n",
      "science\n",
      "кошка       0.653909\n",
      "собака      0.334929\n",
      "хозяин      0.143541\n",
      "кот         0.127592\n",
      "который     0.124843\n",
      "человек     0.124843\n",
      "это         0.116520\n",
      "животное    0.111643\n",
      "свой        0.099874\n",
      "жить        0.095694\n",
      "предок      0.095694\n",
      "кошачий     0.079745\n",
      "просто      0.079745\n",
      "витала      0.063796\n",
      "гораздо     0.063796\n",
      "Name: science, dtype: float64\n",
      "___________\n",
      "crime\n",
      "суд            0.318807\n",
      "чирцовый       0.311051\n",
      "адвокат        0.186630\n",
      "боль           0.186630\n",
      "задержать      0.155525\n",
      "судья          0.155525\n",
      "полицейский    0.147142\n",
      "27             0.124420\n",
      "михалёнка      0.124420\n",
      "плакат         0.124420\n",
      "полиция        0.124420\n",
      "чирец          0.124420\n",
      "дело           0.098094\n",
      "июль           0.098094\n",
      "москва         0.098094\n",
      "Name: crime, dtype: float64\n",
      "___________\n",
      "politics\n",
      "моралеса           0.556732\n",
      "боливия            0.381759\n",
      "президент          0.200655\n",
      "выбор              0.174973\n",
      "отставка           0.174973\n",
      "страна             0.142142\n",
      "заявить            0.137951\n",
      "призвать           0.127253\n",
      "переворот          0.111346\n",
      "политический       0.111346\n",
      "государство        0.095440\n",
      "пост               0.095440\n",
      "сила               0.095440\n",
      "власть             0.079533\n",
      "государственный    0.079533\n",
      "Name: politics, dtype: float64\n",
      "___________\n"
     ]
    }
   ],
   "source": [
    "col_names = list(df.columns)\n",
    "\n",
    "kw_pred_dict = {}\n",
    "\n",
    "for col in col_names:\n",
    "    kws = df.nlargest(15, col)\n",
    "    kws = kws[col]\n",
    "    print(col)\n",
    "    print(kws)\n",
    "    kw_pred_dict[col] = list(kws.index)\n",
    "    print('___________')\n"
   ]
  },
  {
   "cell_type": "code",
   "execution_count": 35,
   "metadata": {},
   "outputs": [
    {
     "data": {
      "image/png": "[encoded data removed]",
      "text/plain": [
       "<Figure size 432x288 with 1 Axes>"
      ]
     },
     "metadata": {
      "needs_background": "light"
     },
     "output_type": "display_data"
    }
   ],
   "source": [
    "thresholds = [0., 0.1, 0.2, 0.3, 0.4, 0.5, 0.6, 0.7, 0.8, 0.9, 1.]\n",
    "precs = []\n",
    "accs = []\n",
    "f1s = []\n",
    "\n",
    "for el in thresholds:\n",
    "    prec, acc, f1 = mean_metrics(keywords_lemmas_dict, kw_pred_dict, threshold=el)\n",
    "    precs.append(prec)\n",
    "    accs.append(acc)\n",
    "    f1s.append(f1)\n",
    "\n",
    "plt.plot(thresholds, precs)\n",
    "plt.plot(thresholds, accs)\n",
    "plt.plot(thresholds, f1s)\n",
    "plt.legend(['Precision', 'Accuracy', 'F1-score'])\n",
    "plt.xlabel('Уровень отсечения (нормированный Левенштейн)')\n",
    "plt.ylabel('Значение метрик')\n",
    "plt.show()"
   ]
  },
  {
   "cell_type": "markdown",
   "metadata": {},
   "source": [
    "## Выводы\n",
    "\n",
    "* качество нахождения ключевых слов (и количество кандидатов) напрямую зависит от размера текста; поэтому лучше всего находились ключевые слова в рубрике politics и business (каждый из текстов - более 2 тыс. слов), хуже всего - в science и crime (до тысячи слов каждый из текстов).\n",
    "* для RAKE заметна тенденция к тому, чтобы находить более длинные последовательности ключевых слов при удлинении текста; печально, что именно на нашей выборке самые длинные последовательности ключевых слов встречались как раз в самых коротких текстах.\n",
    "* лемматизация не очень сильно влияет на качество выдачи. Она немного повышает его в алгоритме RAKE, в остальных методах мало изменяет результаты\n",
    "* лучшее качество по результатам выдачи - у TextRank и Tf-Idf; самое плохое - у RAKE.\n",
    "* метрики не вызывают большого доверия - показывая большие цифры, они по сути не \"срезают\" лишние варианты; после значения 0.4 обычно идет резкий спад, показывающий точность меньше 50%. Тем не менее, если посмотреть результаты выдачи, можно убедиться, что не все так плохо.\n",
    "* вопрос метрики - как-то лучше придумывать словоделение\n",
    "* возможно надо применить лемматизацию и пословно проверять, делать дробную метрику как тут: https://lct-master.org/getfile.php?id=2676&n=1&dt=TH&ft=pdf&type=TH (стр. 37)."
   ]
  },
  {
   "cell_type": "code",
   "execution_count": null,
   "metadata": {},
   "outputs": [],
   "source": []
  }
 ],
 "metadata": {
  "kernelspec": {
   "display_name": "Python 3",
   "language": "python",
   "name": "python3"
  },
  "language_info": {
   "codemirror_mode": {
    "name": "ipython",
    "version": 3
   },
   "file_extension": ".py",
   "mimetype": "text/x-python",
   "name": "python",
   "nbconvert_exporter": "python",
   "pygments_lexer": "ipython3",
   "version": "3.6.8"
  }
 },
 "nbformat": 4,
 "nbformat_minor": 2
}
